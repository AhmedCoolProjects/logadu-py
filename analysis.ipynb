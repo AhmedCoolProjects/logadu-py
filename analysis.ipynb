{
 "cells": [
  {
   "cell_type": "markdown",
   "id": "15b1e6f1",
   "metadata": {},
   "source": [
    "# Constants"
   ]
  },
  {
   "cell_type": "code",
   "execution_count": 1,
   "id": "cd934bac",
   "metadata": {},
   "outputs": [
    {
     "name": "stderr",
     "output_type": "stream",
     "text": [
      "/home/ahmed.bargady/.local/lib/python3.8/site-packages/pandas/core/computation/expressions.py:20: UserWarning: Pandas requires version '2.7.3' or newer of 'numexpr' (version '2.7.1' currently installed).\n",
      "  from pandas.core.computation.check import NUMEXPR_INSTALLED\n"
     ]
    }
   ],
   "source": [
    "import os\n",
    "import pandas as pd\n",
    "import gc"
   ]
  },
  {
   "cell_type": "code",
   "execution_count": 2,
   "id": "4e889320",
   "metadata": {},
   "outputs": [
    {
     "name": "stdout",
     "output_type": "stream",
     "text": [
      "Running as user: ahmed.bargady\n"
     ]
    }
   ],
   "source": [
    "_USER = os.getenv(\"USER\", \"unknown_user\")\n",
    "print(f\"Running as user: {_USER}\")"
   ]
  },
  {
   "cell_type": "code",
   "execution_count": 32,
   "id": "6e3f7ee9",
   "metadata": {},
   "outputs": [
    {
     "name": "stdout",
     "output_type": "stream",
     "text": [
      "LINUX24\n",
      "WIN25CH\n"
     ]
    }
   ],
   "source": [
    "DATA_DIR = f\"/home/{_USER}/lustre/nlp_team-um6p-st-sccs-id7fz1zvotk/IDS/ahmed.bargady/data/github/logs-ad-ultimate/logadu-package/dataset/data\"\n",
    "\n",
    "# get .csv files inside the DATA_DIR\n",
    "log_files = [f for f in os.listdir(DATA_DIR) if f.endswith('.csv')]\n",
    "data_names = [f[:-4] for f in log_files]  # remove the .csv extension\n",
    "for _name in data_names:\n",
    "    print(_name)"
   ]
  },
  {
   "cell_type": "markdown",
   "id": "a6bde128",
   "metadata": {},
   "source": [
    "# DATASETS"
   ]
  },
  {
   "cell_type": "markdown",
   "id": "1031f003",
   "metadata": {},
   "source": [
    "## 1. Dataframes"
   ]
  },
  {
   "cell_type": "code",
   "execution_count": 36,
   "id": "4c771f7e",
   "metadata": {},
   "outputs": [
    {
     "data": {
      "text/plain": [
       "((121590, 8), (9192, 8))"
      ]
     },
     "execution_count": 36,
     "metadata": {},
     "output_type": "execute_result"
    }
   ],
   "source": [
    "L = \"LINUX24\"\n",
    "W = \"WIN25CH\"\n",
    "\n",
    "l_file = os.path.join(DATA_DIR, \"LINUX24.csv\")\n",
    "w_file = os.path.join(DATA_DIR, \"WIN25CH.csv\")\n",
    "\n",
    "dfl = pd.read_csv(l_file)\n",
    "dfw = pd.read_csv(w_file)\n",
    "\n",
    "dfl.shape, dfw.shape"
   ]
  },
  {
   "cell_type": "code",
   "execution_count": 34,
   "id": "f04ed0aa",
   "metadata": {},
   "outputs": [
    {
     "data": {
      "text/html": [
       "<div>\n",
       "<style scoped>\n",
       "    .dataframe tbody tr th:only-of-type {\n",
       "        vertical-align: middle;\n",
       "    }\n",
       "\n",
       "    .dataframe tbody tr th {\n",
       "        vertical-align: top;\n",
       "    }\n",
       "\n",
       "    .dataframe thead th {\n",
       "        text-align: right;\n",
       "    }\n",
       "</style>\n",
       "<table border=\"1\" class=\"dataframe\">\n",
       "  <thead>\n",
       "    <tr style=\"text-align: right;\">\n",
       "      <th></th>\n",
       "      <th>timestamp</th>\n",
       "      <th>location</th>\n",
       "      <th>src_id</th>\n",
       "      <th>content</th>\n",
       "      <th>mitre_id</th>\n",
       "      <th>mitre_tactic</th>\n",
       "      <th>mitre_technique</th>\n",
       "      <th>label</th>\n",
       "    </tr>\n",
       "  </thead>\n",
       "  <tbody>\n",
       "    <tr>\n",
       "      <th>0</th>\n",
       "      <td>2023-10-01 00:49:18.889</td>\n",
       "      <td>rootcheck</td>\n",
       "      <td>1.696121e+09</td>\n",
       "      <td>Trojaned version of file '/bin/diff' detected....</td>\n",
       "      <td>NaN</td>\n",
       "      <td>NaN</td>\n",
       "      <td>NaN</td>\n",
       "      <td>0</td>\n",
       "    </tr>\n",
       "    <tr>\n",
       "      <th>1</th>\n",
       "      <td>2023-10-01 00:49:18.917</td>\n",
       "      <td>rootcheck</td>\n",
       "      <td>1.696121e+09</td>\n",
       "      <td>Trojaned version of file '/usr/bin/diff' detec...</td>\n",
       "      <td>NaN</td>\n",
       "      <td>NaN</td>\n",
       "      <td>NaN</td>\n",
       "      <td>0</td>\n",
       "    </tr>\n",
       "    <tr>\n",
       "      <th>2</th>\n",
       "      <td>2023-10-01 00:49:30.034</td>\n",
       "      <td>wazuh-monitord</td>\n",
       "      <td>1.696121e+09</td>\n",
       "      <td>ossec: Manager started.</td>\n",
       "      <td>NaN</td>\n",
       "      <td>NaN</td>\n",
       "      <td>NaN</td>\n",
       "      <td>0</td>\n",
       "    </tr>\n",
       "    <tr>\n",
       "      <th>3</th>\n",
       "      <td>2023-10-01 00:49:35.008</td>\n",
       "      <td>/var/log/dpkg.log</td>\n",
       "      <td>1.696121e+09</td>\n",
       "      <td>&lt;TIMESTAMP&gt; install filebeat:amd64 &lt;none&gt; 7.10.2</td>\n",
       "      <td>NaN</td>\n",
       "      <td>NaN</td>\n",
       "      <td>NaN</td>\n",
       "      <td>0</td>\n",
       "    </tr>\n",
       "    <tr>\n",
       "      <th>4</th>\n",
       "      <td>2023-10-01 00:49:37.011</td>\n",
       "      <td>/var/log/dpkg.log</td>\n",
       "      <td>1.696121e+09</td>\n",
       "      <td>&lt;TIMESTAMP&gt; status half-configured filebeat:am...</td>\n",
       "      <td>NaN</td>\n",
       "      <td>NaN</td>\n",
       "      <td>NaN</td>\n",
       "      <td>0</td>\n",
       "    </tr>\n",
       "  </tbody>\n",
       "</table>\n",
       "</div>"
      ],
      "text/plain": [
       "                 timestamp           location        src_id  \\\n",
       "0  2023-10-01 00:49:18.889          rootcheck  1.696121e+09   \n",
       "1  2023-10-01 00:49:18.917          rootcheck  1.696121e+09   \n",
       "2  2023-10-01 00:49:30.034     wazuh-monitord  1.696121e+09   \n",
       "3  2023-10-01 00:49:35.008  /var/log/dpkg.log  1.696121e+09   \n",
       "4  2023-10-01 00:49:37.011  /var/log/dpkg.log  1.696121e+09   \n",
       "\n",
       "                                             content mitre_id mitre_tactic  \\\n",
       "0  Trojaned version of file '/bin/diff' detected....      NaN          NaN   \n",
       "1  Trojaned version of file '/usr/bin/diff' detec...      NaN          NaN   \n",
       "2                            ossec: Manager started.      NaN          NaN   \n",
       "3   <TIMESTAMP> install filebeat:amd64 <none> 7.10.2      NaN          NaN   \n",
       "4  <TIMESTAMP> status half-configured filebeat:am...      NaN          NaN   \n",
       "\n",
       "  mitre_technique  label  \n",
       "0             NaN      0  \n",
       "1             NaN      0  \n",
       "2             NaN      0  \n",
       "3             NaN      0  \n",
       "4             NaN      0  "
      ]
     },
     "execution_count": 34,
     "metadata": {},
     "output_type": "execute_result"
    }
   ],
   "source": [
    "dfl.head()"
   ]
  },
  {
   "cell_type": "code",
   "execution_count": 35,
   "id": "62b2ff20",
   "metadata": {},
   "outputs": [
    {
     "data": {
      "text/html": [
       "<div>\n",
       "<style scoped>\n",
       "    .dataframe tbody tr th:only-of-type {\n",
       "        vertical-align: middle;\n",
       "    }\n",
       "\n",
       "    .dataframe tbody tr th {\n",
       "        vertical-align: top;\n",
       "    }\n",
       "\n",
       "    .dataframe thead th {\n",
       "        text-align: right;\n",
       "    }\n",
       "</style>\n",
       "<table border=\"1\" class=\"dataframe\">\n",
       "  <thead>\n",
       "    <tr style=\"text-align: right;\">\n",
       "      <th></th>\n",
       "      <th>timestamp</th>\n",
       "      <th>location</th>\n",
       "      <th>src_id</th>\n",
       "      <th>content</th>\n",
       "      <th>mitre_id</th>\n",
       "      <th>mitre_tactic</th>\n",
       "      <th>mitre_technique</th>\n",
       "      <th>label</th>\n",
       "    </tr>\n",
       "  </thead>\n",
       "  <tbody>\n",
       "    <tr>\n",
       "      <th>0</th>\n",
       "      <td>2024-10-28 08:51:44.254</td>\n",
       "      <td>rootcheck</td>\n",
       "      <td>1.730106e+09</td>\n",
       "      <td>Trojaned version of file '/bin/diff' detected....</td>\n",
       "      <td>NaN</td>\n",
       "      <td>NaN</td>\n",
       "      <td>NaN</td>\n",
       "      <td>0</td>\n",
       "    </tr>\n",
       "    <tr>\n",
       "      <th>1</th>\n",
       "      <td>2024-10-28 08:51:44.266</td>\n",
       "      <td>rootcheck</td>\n",
       "      <td>1.730106e+09</td>\n",
       "      <td>Trojaned version of file '/usr/bin/diff' detec...</td>\n",
       "      <td>NaN</td>\n",
       "      <td>NaN</td>\n",
       "      <td>NaN</td>\n",
       "      <td>0</td>\n",
       "    </tr>\n",
       "    <tr>\n",
       "      <th>2</th>\n",
       "      <td>2024-10-28 08:51:46.784</td>\n",
       "      <td>rootcheck</td>\n",
       "      <td>1.730106e+09</td>\n",
       "      <td>File '&lt;FILE_PATH&gt;/&lt;HEX_DATA&gt;' is owned by root...</td>\n",
       "      <td>NaN</td>\n",
       "      <td>NaN</td>\n",
       "      <td>NaN</td>\n",
       "      <td>0</td>\n",
       "    </tr>\n",
       "    <tr>\n",
       "      <th>3</th>\n",
       "      <td>2024-10-28 08:51:50.951</td>\n",
       "      <td>/var/log/dpkg.log</td>\n",
       "      <td>1.730106e+09</td>\n",
       "      <td>&lt;TIMESTAMP&gt; status half-configured filebeat:am...</td>\n",
       "      <td>NaN</td>\n",
       "      <td>NaN</td>\n",
       "      <td>NaN</td>\n",
       "      <td>0</td>\n",
       "    </tr>\n",
       "    <tr>\n",
       "      <th>4</th>\n",
       "      <td>2024-10-28 08:51:50.951</td>\n",
       "      <td>/var/log/dpkg.log</td>\n",
       "      <td>1.730106e+09</td>\n",
       "      <td>&lt;TIMESTAMP&gt; install filebeat:amd64 &lt;none&gt; 7.10.2</td>\n",
       "      <td>NaN</td>\n",
       "      <td>NaN</td>\n",
       "      <td>NaN</td>\n",
       "      <td>0</td>\n",
       "    </tr>\n",
       "  </tbody>\n",
       "</table>\n",
       "</div>"
      ],
      "text/plain": [
       "                 timestamp           location        src_id  \\\n",
       "0  2024-10-28 08:51:44.254          rootcheck  1.730106e+09   \n",
       "1  2024-10-28 08:51:44.266          rootcheck  1.730106e+09   \n",
       "2  2024-10-28 08:51:46.784          rootcheck  1.730106e+09   \n",
       "3  2024-10-28 08:51:50.951  /var/log/dpkg.log  1.730106e+09   \n",
       "4  2024-10-28 08:51:50.951  /var/log/dpkg.log  1.730106e+09   \n",
       "\n",
       "                                             content mitre_id mitre_tactic  \\\n",
       "0  Trojaned version of file '/bin/diff' detected....      NaN          NaN   \n",
       "1  Trojaned version of file '/usr/bin/diff' detec...      NaN          NaN   \n",
       "2  File '<FILE_PATH>/<HEX_DATA>' is owned by root...      NaN          NaN   \n",
       "3  <TIMESTAMP> status half-configured filebeat:am...      NaN          NaN   \n",
       "4   <TIMESTAMP> install filebeat:amd64 <none> 7.10.2      NaN          NaN   \n",
       "\n",
       "  mitre_technique  label  \n",
       "0             NaN      0  \n",
       "1             NaN      0  \n",
       "2             NaN      0  \n",
       "3             NaN      0  \n",
       "4             NaN      0  "
      ]
     },
     "execution_count": 35,
     "metadata": {},
     "output_type": "execute_result"
    }
   ],
   "source": [
    "dfw.head()"
   ]
  },
  {
   "cell_type": "code",
   "execution_count": 37,
   "id": "61d3d61f",
   "metadata": {},
   "outputs": [
    {
     "data": {
      "text/plain": [
       "258"
      ]
     },
     "execution_count": 37,
     "metadata": {},
     "output_type": "execute_result"
    }
   ],
   "source": [
    "del dfl, dfw\n",
    "gc.collect()"
   ]
  },
  {
   "cell_type": "markdown",
   "id": "3fbe3d70",
   "metadata": {},
   "source": [
    "## 2. Parsed Content"
   ]
  },
  {
   "cell_type": "markdown",
   "id": "ac1952db",
   "metadata": {},
   "source": [
    "### 2.1. Spell"
   ]
  },
  {
   "cell_type": "markdown",
   "id": "4eba3966",
   "metadata": {},
   "source": [
    "A concise description of the **Spell parser**:\n",
    "\n",
    "**What Spell Takes:**\n",
    "1. **Input**: Raw log files (unstructured text)\n",
    "2. **Parameters**:\n",
    "   - `log_format`: Defines the structure of logs (e.g., `<Date> <Level> <Content>`)\n",
    "   - `tau` (0.4-0.6): Similarity threshold (lower = more aggressive grouping)\n",
    "   - `rex`: Regex rules to mask variables (e.g., IPs, IDs → `<*>`)\n",
    "\n",
    "**What Spell Produces:**\n",
    "1. **Output**:\n",
    "   - **Structured logs**:  \n",
    "     - `EventId` (hash of the template)  \n",
    "     - `EventTemplate` (log pattern with `<*>` wildcards)  \n",
    "     - `ParameterList` (extracted variables if `keep_para=True`)  \n",
    "   - **Templates file**: Frequency count of each log pattern.\n",
    "\n",
    "2. **How It Works**:\n",
    "   - Uses **Longest Common Subsequence (LCS)** to match logs to templates.\n",
    "   - Builds a **prefix tree** for efficient searching.\n",
    "   - Dynamically updates templates as new logs arrive.\n",
    "\n",
    "**Key Advantage**:\n",
    "- **Balanced accuracy/speed**: Good for semi-structured logs (e.g., HDFS, Apache).  \n",
    "- **Interpretable**: Templates clearly show static vs. variable parts.  \n",
    "\n",
    "**Example**:\n",
    "**Input Log**:  \n",
    "`\"2023-01-01 ERROR Failed to connect to 192.168.1.1\"`  \n",
    "\n",
    "**Output Template**:  \n",
    "`\"<*> ERROR Failed to connect to <*>\"`  \n",
    "\n",
    "**Parameters Extracted**:  \n",
    "`[\"2023-01-01\", \"192.168.1.1\"]`  \n",
    "\n",
    "```\n",
    "M. Du, F. Li, Spell: Streaming parsing of system event logs, in: Proceedings of the 2016 IEEE 16th International\n",
    "Conference on Data Mining (ICDM), IEEE, Barcelona, Spain, 2016, pp. 859–864. doi:10.1109/ICDM.2016.\n",
    "0102.\n",
    "```"
   ]
  },
  {
   "cell_type": "code",
   "execution_count": 38,
   "id": "ea734aa8",
   "metadata": {},
   "outputs": [
    {
     "data": {
      "text/plain": [
       "((121590, 4), (9192, 4), (1305, 3), (143, 3))"
      ]
     },
     "execution_count": 38,
     "metadata": {},
     "output_type": "execute_result"
    }
   ],
   "source": [
    "SPELL_DIR = os.path.join(DATA_DIR, \"spell\")\n",
    "\n",
    "# structured data\n",
    "sl = pd.read_csv(os.path.join(SPELL_DIR, L + \"_structured.csv\"))\n",
    "sw = pd.read_csv(os.path.join(SPELL_DIR, W + \"_structured.csv\"))\n",
    "\n",
    "# templates data\n",
    "tl = pd.read_csv(os.path.join(SPELL_DIR, L + \"_templates.csv\"))\n",
    "tw = pd.read_csv(os.path.join(SPELL_DIR, W + \"_templates.csv\"))\n",
    "\n",
    "sl.shape, sw.shape, tl.shape, tw.shape"
   ]
  },
  {
   "cell_type": "code",
   "execution_count": 39,
   "id": "d16eac6e",
   "metadata": {},
   "outputs": [
    {
     "data": {
      "text/html": [
       "<div>\n",
       "<style scoped>\n",
       "    .dataframe tbody tr th:only-of-type {\n",
       "        vertical-align: middle;\n",
       "    }\n",
       "\n",
       "    .dataframe tbody tr th {\n",
       "        vertical-align: top;\n",
       "    }\n",
       "\n",
       "    .dataframe thead th {\n",
       "        text-align: right;\n",
       "    }\n",
       "</style>\n",
       "<table border=\"1\" class=\"dataframe\">\n",
       "  <thead>\n",
       "    <tr style=\"text-align: right;\">\n",
       "      <th></th>\n",
       "      <th>LineId</th>\n",
       "      <th>Content</th>\n",
       "      <th>EventId</th>\n",
       "      <th>EventTemplate</th>\n",
       "    </tr>\n",
       "  </thead>\n",
       "  <tbody>\n",
       "    <tr>\n",
       "      <th>0</th>\n",
       "      <td>1</td>\n",
       "      <td>Trojaned version of file '/bin/diff' detected....</td>\n",
       "      <td>52586b5f</td>\n",
       "      <td>Trojaned version of file  bin diff  detected  ...</td>\n",
       "    </tr>\n",
       "    <tr>\n",
       "      <th>1</th>\n",
       "      <td>2</td>\n",
       "      <td>Trojaned version of file '/usr/bin/diff' detec...</td>\n",
       "      <td>52586b5f</td>\n",
       "      <td>Trojaned version of file  bin diff  detected  ...</td>\n",
       "    </tr>\n",
       "    <tr>\n",
       "      <th>2</th>\n",
       "      <td>3</td>\n",
       "      <td>ossec: Manager started.</td>\n",
       "      <td>40bd922a</td>\n",
       "      <td>ossec  Manager started</td>\n",
       "    </tr>\n",
       "    <tr>\n",
       "      <th>3</th>\n",
       "      <td>4</td>\n",
       "      <td>&lt;TIMESTAMP&gt; install filebeat:amd64 &lt;none&gt; 7.10.2</td>\n",
       "      <td>ac2c3f4e</td>\n",
       "      <td>&lt;TIMESTAMP&gt; install filebeat amd64 &lt;none&gt; 7 10 2</td>\n",
       "    </tr>\n",
       "    <tr>\n",
       "      <th>4</th>\n",
       "      <td>5</td>\n",
       "      <td>&lt;TIMESTAMP&gt; status half-configured filebeat:am...</td>\n",
       "      <td>2f12da89</td>\n",
       "      <td>&lt;*&gt; &lt;*&gt; amd64 7 10 2</td>\n",
       "    </tr>\n",
       "  </tbody>\n",
       "</table>\n",
       "</div>"
      ],
      "text/plain": [
       "   LineId                                            Content   EventId  \\\n",
       "0       1  Trojaned version of file '/bin/diff' detected....  52586b5f   \n",
       "1       2  Trojaned version of file '/usr/bin/diff' detec...  52586b5f   \n",
       "2       3                            ossec: Manager started.  40bd922a   \n",
       "3       4   <TIMESTAMP> install filebeat:amd64 <none> 7.10.2  ac2c3f4e   \n",
       "4       5  <TIMESTAMP> status half-configured filebeat:am...  2f12da89   \n",
       "\n",
       "                                       EventTemplate  \n",
       "0  Trojaned version of file  bin diff  detected  ...  \n",
       "1  Trojaned version of file  bin diff  detected  ...  \n",
       "2                             ossec  Manager started  \n",
       "3   <TIMESTAMP> install filebeat amd64 <none> 7 10 2  \n",
       "4                               <*> <*> amd64 7 10 2  "
      ]
     },
     "execution_count": 39,
     "metadata": {},
     "output_type": "execute_result"
    }
   ],
   "source": [
    "sl.head()"
   ]
  },
  {
   "cell_type": "code",
   "execution_count": 40,
   "id": "6c0205d8",
   "metadata": {},
   "outputs": [
    {
     "data": {
      "text/html": [
       "<div>\n",
       "<style scoped>\n",
       "    .dataframe tbody tr th:only-of-type {\n",
       "        vertical-align: middle;\n",
       "    }\n",
       "\n",
       "    .dataframe tbody tr th {\n",
       "        vertical-align: top;\n",
       "    }\n",
       "\n",
       "    .dataframe thead th {\n",
       "        text-align: right;\n",
       "    }\n",
       "</style>\n",
       "<table border=\"1\" class=\"dataframe\">\n",
       "  <thead>\n",
       "    <tr style=\"text-align: right;\">\n",
       "      <th></th>\n",
       "      <th>LineId</th>\n",
       "      <th>Content</th>\n",
       "      <th>EventId</th>\n",
       "      <th>EventTemplate</th>\n",
       "    </tr>\n",
       "  </thead>\n",
       "  <tbody>\n",
       "    <tr>\n",
       "      <th>0</th>\n",
       "      <td>1</td>\n",
       "      <td>Trojaned version of file '/bin/diff' detected....</td>\n",
       "      <td>52586b5f</td>\n",
       "      <td>Trojaned version of file  bin diff  detected  ...</td>\n",
       "    </tr>\n",
       "    <tr>\n",
       "      <th>1</th>\n",
       "      <td>2</td>\n",
       "      <td>Trojaned version of file '/usr/bin/diff' detec...</td>\n",
       "      <td>52586b5f</td>\n",
       "      <td>Trojaned version of file  bin diff  detected  ...</td>\n",
       "    </tr>\n",
       "    <tr>\n",
       "      <th>2</th>\n",
       "      <td>3</td>\n",
       "      <td>File '&lt;FILE_PATH&gt;/&lt;HEX_DATA&gt;' is owned by root...</td>\n",
       "      <td>76111487</td>\n",
       "      <td>File  &lt;FILE PATH&gt; &lt;*&gt;</td>\n",
       "    </tr>\n",
       "    <tr>\n",
       "      <th>3</th>\n",
       "      <td>4</td>\n",
       "      <td>&lt;TIMESTAMP&gt; status half-configured filebeat:am...</td>\n",
       "      <td>4e38040f</td>\n",
       "      <td>&lt;*&gt; &lt;*&gt; &lt;*&gt; 10 2</td>\n",
       "    </tr>\n",
       "    <tr>\n",
       "      <th>4</th>\n",
       "      <td>5</td>\n",
       "      <td>&lt;TIMESTAMP&gt; install filebeat:amd64 &lt;none&gt; 7.10.2</td>\n",
       "      <td>4e38040f</td>\n",
       "      <td>&lt;*&gt; &lt;*&gt; &lt;*&gt; 10 2</td>\n",
       "    </tr>\n",
       "  </tbody>\n",
       "</table>\n",
       "</div>"
      ],
      "text/plain": [
       "   LineId                                            Content   EventId  \\\n",
       "0       1  Trojaned version of file '/bin/diff' detected....  52586b5f   \n",
       "1       2  Trojaned version of file '/usr/bin/diff' detec...  52586b5f   \n",
       "2       3  File '<FILE_PATH>/<HEX_DATA>' is owned by root...  76111487   \n",
       "3       4  <TIMESTAMP> status half-configured filebeat:am...  4e38040f   \n",
       "4       5   <TIMESTAMP> install filebeat:amd64 <none> 7.10.2  4e38040f   \n",
       "\n",
       "                                       EventTemplate  \n",
       "0  Trojaned version of file  bin diff  detected  ...  \n",
       "1  Trojaned version of file  bin diff  detected  ...  \n",
       "2                              File  <FILE PATH> <*>  \n",
       "3                                   <*> <*> <*> 10 2  \n",
       "4                                   <*> <*> <*> 10 2  "
      ]
     },
     "execution_count": 40,
     "metadata": {},
     "output_type": "execute_result"
    }
   ],
   "source": [
    "sw.head()"
   ]
  },
  {
   "cell_type": "code",
   "execution_count": 42,
   "id": "5209c45b",
   "metadata": {},
   "outputs": [
    {
     "data": {
      "text/html": [
       "<div>\n",
       "<style scoped>\n",
       "    .dataframe tbody tr th:only-of-type {\n",
       "        vertical-align: middle;\n",
       "    }\n",
       "\n",
       "    .dataframe tbody tr th {\n",
       "        vertical-align: top;\n",
       "    }\n",
       "\n",
       "    .dataframe thead th {\n",
       "        text-align: right;\n",
       "    }\n",
       "</style>\n",
       "<table border=\"1\" class=\"dataframe\">\n",
       "  <thead>\n",
       "    <tr style=\"text-align: right;\">\n",
       "      <th></th>\n",
       "      <th>EventId</th>\n",
       "      <th>EventTemplate</th>\n",
       "      <th>Occurrences</th>\n",
       "    </tr>\n",
       "  </thead>\n",
       "  <tbody>\n",
       "    <tr>\n",
       "      <th>634</th>\n",
       "      <td>11856dcb</td>\n",
       "      <td>type SYSCALL msg audit &lt;LONG NUM&gt; &lt;*&gt; &lt;*&gt;  &lt;ME...</td>\n",
       "      <td>20203</td>\n",
       "    </tr>\n",
       "    <tr>\n",
       "      <th>389</th>\n",
       "      <td>ff3a15a6</td>\n",
       "      <td>type SYSCALL msg audit &lt;LONG NUM&gt; &lt;*&gt; &lt;*&gt;  &lt;ME...</td>\n",
       "      <td>14414</td>\n",
       "    </tr>\n",
       "    <tr>\n",
       "      <th>76</th>\n",
       "      <td>b68e870c</td>\n",
       "      <td>&lt;IP ADDR&gt;  &lt;*&gt; Oct 2023 &lt;*&gt; &lt;*&gt; &lt;*&gt; 0500 GET  ...</td>\n",
       "      <td>13612</td>\n",
       "    </tr>\n",
       "    <tr>\n",
       "      <th>277</th>\n",
       "      <td>ea9e74f9</td>\n",
       "      <td>&lt;IP ADDR&gt;  20 Oct 2023 23 &lt;*&gt; &lt;*&gt; 0500 &lt;*&gt; &lt;*&gt;...</td>\n",
       "      <td>6480</td>\n",
       "    </tr>\n",
       "    <tr>\n",
       "      <th>271</th>\n",
       "      <td>f1964136</td>\n",
       "      <td>&lt;IP ADDR&gt;  20 Oct 2023 23 &lt;*&gt; &lt;*&gt; 0500 GET  &lt;*...</td>\n",
       "      <td>5647</td>\n",
       "    </tr>\n",
       "  </tbody>\n",
       "</table>\n",
       "</div>"
      ],
      "text/plain": [
       "      EventId                                      EventTemplate  Occurrences\n",
       "634  11856dcb  type SYSCALL msg audit <LONG NUM> <*> <*>  <ME...        20203\n",
       "389  ff3a15a6  type SYSCALL msg audit <LONG NUM> <*> <*>  <ME...        14414\n",
       "76   b68e870c  <IP ADDR>  <*> Oct 2023 <*> <*> <*> 0500 GET  ...        13612\n",
       "277  ea9e74f9  <IP ADDR>  20 Oct 2023 23 <*> <*> 0500 <*> <*>...         6480\n",
       "271  f1964136  <IP ADDR>  20 Oct 2023 23 <*> <*> 0500 GET  <*...         5647"
      ]
     },
     "execution_count": 42,
     "metadata": {},
     "output_type": "execute_result"
    }
   ],
   "source": [
    "tl.sort_values(by=\"Occurrences\", ascending=False).head()"
   ]
  },
  {
   "cell_type": "code",
   "execution_count": 43,
   "id": "c8e5d9d4",
   "metadata": {},
   "outputs": [
    {
     "data": {
      "text/html": [
       "<div>\n",
       "<style scoped>\n",
       "    .dataframe tbody tr th:only-of-type {\n",
       "        vertical-align: middle;\n",
       "    }\n",
       "\n",
       "    .dataframe tbody tr th {\n",
       "        vertical-align: top;\n",
       "    }\n",
       "\n",
       "    .dataframe thead th {\n",
       "        text-align: right;\n",
       "    }\n",
       "</style>\n",
       "<table border=\"1\" class=\"dataframe\">\n",
       "  <thead>\n",
       "    <tr style=\"text-align: right;\">\n",
       "      <th></th>\n",
       "      <th>EventId</th>\n",
       "      <th>EventTemplate</th>\n",
       "      <th>Occurrences</th>\n",
       "    </tr>\n",
       "  </thead>\n",
       "  <tbody>\n",
       "    <tr>\n",
       "      <th>21</th>\n",
       "      <td>64c455e3</td>\n",
       "      <td>Registry Value  x32  HKEY LOCAL &lt;*&gt;</td>\n",
       "      <td>3134</td>\n",
       "    </tr>\n",
       "    <tr>\n",
       "      <th>25</th>\n",
       "      <td>b2f5b94e</td>\n",
       "      <td>&lt;*&gt; &lt;*&gt;  HKEY LOCAL &lt;*&gt; &lt;*&gt; &lt;*&gt; &lt;*&gt; &lt;*&gt; &lt;*&gt; &lt;*...</td>\n",
       "      <td>1785</td>\n",
       "    </tr>\n",
       "    <tr>\n",
       "      <th>20</th>\n",
       "      <td>1a5be16d</td>\n",
       "      <td>Registry Value  x32  HKEY LOCAL &lt;*&gt; &lt;*&gt; &lt;*&gt; &lt;*...</td>\n",
       "      <td>1541</td>\n",
       "    </tr>\n",
       "    <tr>\n",
       "      <th>19</th>\n",
       "      <td>8582fe8d</td>\n",
       "      <td>Registry Key  x32  HKEY LOCAL &lt;*&gt;  modified Mo...</td>\n",
       "      <td>857</td>\n",
       "    </tr>\n",
       "    <tr>\n",
       "      <th>26</th>\n",
       "      <td>2bb5a355</td>\n",
       "      <td>&lt;*&gt; x32  HKEY LOCAL &lt;*&gt; &lt;*&gt; &lt;*&gt; &lt;*&gt; &lt;*&gt; &lt;*&gt; &lt;*...</td>\n",
       "      <td>744</td>\n",
       "    </tr>\n",
       "  </tbody>\n",
       "</table>\n",
       "</div>"
      ],
      "text/plain": [
       "     EventId                                      EventTemplate  Occurrences\n",
       "21  64c455e3                Registry Value  x32  HKEY LOCAL <*>         3134\n",
       "25  b2f5b94e  <*> <*>  HKEY LOCAL <*> <*> <*> <*> <*> <*> <*...         1785\n",
       "20  1a5be16d  Registry Value  x32  HKEY LOCAL <*> <*> <*> <*...         1541\n",
       "19  8582fe8d  Registry Key  x32  HKEY LOCAL <*>  modified Mo...          857\n",
       "26  2bb5a355  <*> x32  HKEY LOCAL <*> <*> <*> <*> <*> <*> <*...          744"
      ]
     },
     "execution_count": 43,
     "metadata": {},
     "output_type": "execute_result"
    }
   ],
   "source": [
    "tw.sort_values(by=\"Occurrences\", ascending=False).head()"
   ]
  },
  {
   "cell_type": "code",
   "execution_count": 44,
   "id": "3e80e2a0",
   "metadata": {},
   "outputs": [
    {
     "data": {
      "text/plain": [
       "100"
      ]
     },
     "execution_count": 44,
     "metadata": {},
     "output_type": "execute_result"
    }
   ],
   "source": [
    "del sl, sw, tl, tw\n",
    "gc.collect()"
   ]
  },
  {
   "cell_type": "markdown",
   "id": "0c7a3b81",
   "metadata": {},
   "source": [
    "### 2.2. Drain"
   ]
  },
  {
   "cell_type": "markdown",
   "id": "5b0f1d47",
   "metadata": {},
   "source": [
    "**What it does**:  \n",
    "- **Input**: Raw logs  \n",
    "- **Key Features**:  \n",
    "  - Uses a **fixed-depth tree** to group logs by token length → fast clustering.  \n",
    "  - Replaces variables with `<*>` based on **similarity threshold (`st`)**.  \n",
    "  - Configurable `depth` (tree levels) and `max_children` (node splits).  \n",
    "\n",
    "**Output**:  \n",
    "- **Structured logs** with:  \n",
    "  - `EventTemplate` (e.g., `\"Error connecting to <*>\"`).  \n",
    "  - Extracted parameters (optional).  \n",
    "\n",
    "**Best for**:  \n",
    "- **High-speed parsing** of structured logs (e.g., network logs, HDFS).  \n",
    "- When you need **deterministic results** (unlike Spell’s LCS).  \n"
   ]
  },
  {
   "cell_type": "code",
   "execution_count": 45,
   "id": "a140624d",
   "metadata": {},
   "outputs": [
    {
     "data": {
      "text/plain": [
       "((121590, 4), (9192, 4), (315, 3), (88, 3))"
      ]
     },
     "execution_count": 45,
     "metadata": {},
     "output_type": "execute_result"
    }
   ],
   "source": [
    "DRAIN_DIR = os.path.join(DATA_DIR, \"drain\")\n",
    "\n",
    "# structured data\n",
    "sl = pd.read_csv(os.path.join(DRAIN_DIR, L + \"_structured.csv\"))\n",
    "sw = pd.read_csv(os.path.join(DRAIN_DIR, W + \"_structured.csv\"))\n",
    "\n",
    "# templates data\n",
    "tl = pd.read_csv(os.path.join(DRAIN_DIR, L + \"_templates.csv\"))\n",
    "tw = pd.read_csv(os.path.join(DRAIN_DIR, W + \"_templates.csv\"))\n",
    "\n",
    "sl.shape, sw.shape, tl.shape, tw.shape"
   ]
  },
  {
   "cell_type": "code",
   "execution_count": 46,
   "id": "dd364731",
   "metadata": {},
   "outputs": [
    {
     "data": {
      "text/html": [
       "<div>\n",
       "<style scoped>\n",
       "    .dataframe tbody tr th:only-of-type {\n",
       "        vertical-align: middle;\n",
       "    }\n",
       "\n",
       "    .dataframe tbody tr th {\n",
       "        vertical-align: top;\n",
       "    }\n",
       "\n",
       "    .dataframe thead th {\n",
       "        text-align: right;\n",
       "    }\n",
       "</style>\n",
       "<table border=\"1\" class=\"dataframe\">\n",
       "  <thead>\n",
       "    <tr style=\"text-align: right;\">\n",
       "      <th></th>\n",
       "      <th>LineId</th>\n",
       "      <th>Content</th>\n",
       "      <th>EventId</th>\n",
       "      <th>EventTemplate</th>\n",
       "    </tr>\n",
       "  </thead>\n",
       "  <tbody>\n",
       "    <tr>\n",
       "      <th>0</th>\n",
       "      <td>1</td>\n",
       "      <td>Trojaned version of file '/bin/diff' detected....</td>\n",
       "      <td>331a4559</td>\n",
       "      <td>Trojaned version of file &lt;*&gt; detected. Signatu...</td>\n",
       "    </tr>\n",
       "    <tr>\n",
       "      <th>1</th>\n",
       "      <td>2</td>\n",
       "      <td>Trojaned version of file '/usr/bin/diff' detec...</td>\n",
       "      <td>331a4559</td>\n",
       "      <td>Trojaned version of file &lt;*&gt; detected. Signatu...</td>\n",
       "    </tr>\n",
       "    <tr>\n",
       "      <th>2</th>\n",
       "      <td>3</td>\n",
       "      <td>ossec: Manager started.</td>\n",
       "      <td>e1a1f4c3</td>\n",
       "      <td>ossec: Manager started.</td>\n",
       "    </tr>\n",
       "    <tr>\n",
       "      <th>3</th>\n",
       "      <td>4</td>\n",
       "      <td>&lt;TIMESTAMP&gt; install filebeat:amd64 &lt;none&gt; 7.10.2</td>\n",
       "      <td>60b2d672</td>\n",
       "      <td>&lt;TIMESTAMP&gt; install &lt;*&gt; &lt;none&gt; &lt;*&gt;</td>\n",
       "    </tr>\n",
       "    <tr>\n",
       "      <th>4</th>\n",
       "      <td>5</td>\n",
       "      <td>&lt;TIMESTAMP&gt; status half-configured filebeat:am...</td>\n",
       "      <td>7bb16bb4</td>\n",
       "      <td>&lt;TIMESTAMP&gt; status &lt;*&gt; filebeat:amd64 7.10.2</td>\n",
       "    </tr>\n",
       "  </tbody>\n",
       "</table>\n",
       "</div>"
      ],
      "text/plain": [
       "   LineId                                            Content   EventId  \\\n",
       "0       1  Trojaned version of file '/bin/diff' detected....  331a4559   \n",
       "1       2  Trojaned version of file '/usr/bin/diff' detec...  331a4559   \n",
       "2       3                            ossec: Manager started.  e1a1f4c3   \n",
       "3       4   <TIMESTAMP> install filebeat:amd64 <none> 7.10.2  60b2d672   \n",
       "4       5  <TIMESTAMP> status half-configured filebeat:am...  7bb16bb4   \n",
       "\n",
       "                                       EventTemplate  \n",
       "0  Trojaned version of file <*> detected. Signatu...  \n",
       "1  Trojaned version of file <*> detected. Signatu...  \n",
       "2                            ossec: Manager started.  \n",
       "3                 <TIMESTAMP> install <*> <none> <*>  \n",
       "4       <TIMESTAMP> status <*> filebeat:amd64 7.10.2  "
      ]
     },
     "execution_count": 46,
     "metadata": {},
     "output_type": "execute_result"
    }
   ],
   "source": [
    "sl.head()"
   ]
  },
  {
   "cell_type": "code",
   "execution_count": 47,
   "id": "16f9fd3c",
   "metadata": {},
   "outputs": [
    {
     "data": {
      "text/html": [
       "<div>\n",
       "<style scoped>\n",
       "    .dataframe tbody tr th:only-of-type {\n",
       "        vertical-align: middle;\n",
       "    }\n",
       "\n",
       "    .dataframe tbody tr th {\n",
       "        vertical-align: top;\n",
       "    }\n",
       "\n",
       "    .dataframe thead th {\n",
       "        text-align: right;\n",
       "    }\n",
       "</style>\n",
       "<table border=\"1\" class=\"dataframe\">\n",
       "  <thead>\n",
       "    <tr style=\"text-align: right;\">\n",
       "      <th></th>\n",
       "      <th>LineId</th>\n",
       "      <th>Content</th>\n",
       "      <th>EventId</th>\n",
       "      <th>EventTemplate</th>\n",
       "    </tr>\n",
       "  </thead>\n",
       "  <tbody>\n",
       "    <tr>\n",
       "      <th>0</th>\n",
       "      <td>1</td>\n",
       "      <td>Trojaned version of file '/bin/diff' detected....</td>\n",
       "      <td>331a4559</td>\n",
       "      <td>Trojaned version of file &lt;*&gt; detected. Signatu...</td>\n",
       "    </tr>\n",
       "    <tr>\n",
       "      <th>1</th>\n",
       "      <td>2</td>\n",
       "      <td>Trojaned version of file '/usr/bin/diff' detec...</td>\n",
       "      <td>331a4559</td>\n",
       "      <td>Trojaned version of file &lt;*&gt; detected. Signatu...</td>\n",
       "    </tr>\n",
       "    <tr>\n",
       "      <th>2</th>\n",
       "      <td>3</td>\n",
       "      <td>File '&lt;FILE_PATH&gt;/&lt;HEX_DATA&gt;' is owned by root...</td>\n",
       "      <td>37c728b8</td>\n",
       "      <td>File '&lt;FILE_PATH&gt;/&lt;HEX_DATA&gt;' is owned by root...</td>\n",
       "    </tr>\n",
       "    <tr>\n",
       "      <th>3</th>\n",
       "      <td>4</td>\n",
       "      <td>&lt;TIMESTAMP&gt; status half-configured filebeat:am...</td>\n",
       "      <td>7bb16bb4</td>\n",
       "      <td>&lt;TIMESTAMP&gt; status &lt;*&gt; filebeat:amd64 7.10.2</td>\n",
       "    </tr>\n",
       "    <tr>\n",
       "      <th>4</th>\n",
       "      <td>5</td>\n",
       "      <td>&lt;TIMESTAMP&gt; install filebeat:amd64 &lt;none&gt; 7.10.2</td>\n",
       "      <td>60b2d672</td>\n",
       "      <td>&lt;TIMESTAMP&gt; install &lt;*&gt; &lt;none&gt; &lt;*&gt;</td>\n",
       "    </tr>\n",
       "  </tbody>\n",
       "</table>\n",
       "</div>"
      ],
      "text/plain": [
       "   LineId                                            Content   EventId  \\\n",
       "0       1  Trojaned version of file '/bin/diff' detected....  331a4559   \n",
       "1       2  Trojaned version of file '/usr/bin/diff' detec...  331a4559   \n",
       "2       3  File '<FILE_PATH>/<HEX_DATA>' is owned by root...  37c728b8   \n",
       "3       4  <TIMESTAMP> status half-configured filebeat:am...  7bb16bb4   \n",
       "4       5   <TIMESTAMP> install filebeat:amd64 <none> 7.10.2  60b2d672   \n",
       "\n",
       "                                       EventTemplate  \n",
       "0  Trojaned version of file <*> detected. Signatu...  \n",
       "1  Trojaned version of file <*> detected. Signatu...  \n",
       "2  File '<FILE_PATH>/<HEX_DATA>' is owned by root...  \n",
       "3       <TIMESTAMP> status <*> filebeat:amd64 7.10.2  \n",
       "4                 <TIMESTAMP> install <*> <none> <*>  "
      ]
     },
     "execution_count": 47,
     "metadata": {},
     "output_type": "execute_result"
    }
   ],
   "source": [
    "sw.head()"
   ]
  },
  {
   "cell_type": "code",
   "execution_count": 48,
   "id": "6ff23a9b",
   "metadata": {},
   "outputs": [
    {
     "data": {
      "text/html": [
       "<div>\n",
       "<style scoped>\n",
       "    .dataframe tbody tr th:only-of-type {\n",
       "        vertical-align: middle;\n",
       "    }\n",
       "\n",
       "    .dataframe tbody tr th {\n",
       "        vertical-align: top;\n",
       "    }\n",
       "\n",
       "    .dataframe thead th {\n",
       "        text-align: right;\n",
       "    }\n",
       "</style>\n",
       "<table border=\"1\" class=\"dataframe\">\n",
       "  <thead>\n",
       "    <tr style=\"text-align: right;\">\n",
       "      <th></th>\n",
       "      <th>EventId</th>\n",
       "      <th>EventTemplate</th>\n",
       "      <th>Occurrences</th>\n",
       "    </tr>\n",
       "  </thead>\n",
       "  <tbody>\n",
       "    <tr>\n",
       "      <th>160</th>\n",
       "      <td>bcb077d0</td>\n",
       "      <td>type=SYSCALL &lt;*&gt; &lt;MEMORY_ADDR&gt; syscall=59 succ...</td>\n",
       "      <td>34743</td>\n",
       "    </tr>\n",
       "    <tr>\n",
       "      <th>29</th>\n",
       "      <td>3e799d06</td>\n",
       "      <td>&lt;IP_ADDR&gt; - - &lt;*&gt; +0500] \"GET &lt;*&gt; HTTP/1.1\" 30...</td>\n",
       "      <td>14069</td>\n",
       "    </tr>\n",
       "    <tr>\n",
       "      <th>114</th>\n",
       "      <td>db7e8ee6</td>\n",
       "      <td>&lt;IP_ADDR&gt; - - &lt;*&gt; +0500] &lt;*&gt; &lt;*&gt; &lt;*&gt; &lt;*&gt; &lt;*&gt; &lt;...</td>\n",
       "      <td>12451</td>\n",
       "    </tr>\n",
       "    <tr>\n",
       "      <th>163</th>\n",
       "      <td>f112642a</td>\n",
       "      <td>type=SYSCALL &lt;*&gt; &lt;MEMORY_ADDR&gt; syscall=59 succ...</td>\n",
       "      <td>11342</td>\n",
       "    </tr>\n",
       "    <tr>\n",
       "      <th>159</th>\n",
       "      <td>2fb53026</td>\n",
       "      <td>type=SYSCALL &lt;*&gt; &lt;MEMORY_ADDR&gt; syscall=59 succ...</td>\n",
       "      <td>8533</td>\n",
       "    </tr>\n",
       "  </tbody>\n",
       "</table>\n",
       "</div>"
      ],
      "text/plain": [
       "      EventId                                      EventTemplate  Occurrences\n",
       "160  bcb077d0  type=SYSCALL <*> <MEMORY_ADDR> syscall=59 succ...        34743\n",
       "29   3e799d06  <IP_ADDR> - - <*> +0500] \"GET <*> HTTP/1.1\" 30...        14069\n",
       "114  db7e8ee6  <IP_ADDR> - - <*> +0500] <*> <*> <*> <*> <*> <...        12451\n",
       "163  f112642a  type=SYSCALL <*> <MEMORY_ADDR> syscall=59 succ...        11342\n",
       "159  2fb53026  type=SYSCALL <*> <MEMORY_ADDR> syscall=59 succ...         8533"
      ]
     },
     "execution_count": 48,
     "metadata": {},
     "output_type": "execute_result"
    }
   ],
   "source": [
    "tl.sort_values(by=\"Occurrences\", ascending=False).head()"
   ]
  },
  {
   "cell_type": "code",
   "execution_count": 49,
   "id": "2f329b99",
   "metadata": {},
   "outputs": [
    {
     "data": {
      "text/html": [
       "<div>\n",
       "<style scoped>\n",
       "    .dataframe tbody tr th:only-of-type {\n",
       "        vertical-align: middle;\n",
       "    }\n",
       "\n",
       "    .dataframe tbody tr th {\n",
       "        vertical-align: top;\n",
       "    }\n",
       "\n",
       "    .dataframe thead th {\n",
       "        text-align: right;\n",
       "    }\n",
       "</style>\n",
       "<table border=\"1\" class=\"dataframe\">\n",
       "  <thead>\n",
       "    <tr style=\"text-align: right;\">\n",
       "      <th></th>\n",
       "      <th>EventId</th>\n",
       "      <th>EventTemplate</th>\n",
       "      <th>Occurrences</th>\n",
       "    </tr>\n",
       "  </thead>\n",
       "  <tbody>\n",
       "    <tr>\n",
       "      <th>30</th>\n",
       "      <td>543d1aa3</td>\n",
       "      <td>Registry &lt;*&gt; '[x32] &lt;*&gt; &lt;*&gt; Mode: scheduled</td>\n",
       "      <td>4930</td>\n",
       "    </tr>\n",
       "    <tr>\n",
       "      <th>26</th>\n",
       "      <td>1f5d426b</td>\n",
       "      <td>Registry Value '[x32] &lt;*&gt; modified Mode: sched...</td>\n",
       "      <td>1364</td>\n",
       "    </tr>\n",
       "    <tr>\n",
       "      <th>27</th>\n",
       "      <td>9fe42205</td>\n",
       "      <td>Registry Key &lt;*&gt; &lt;*&gt; modified Mode: scheduled ...</td>\n",
       "      <td>627</td>\n",
       "    </tr>\n",
       "    <tr>\n",
       "      <th>35</th>\n",
       "      <td>0de3dab3</td>\n",
       "      <td>Registry &lt;*&gt; &lt;*&gt; &lt;*&gt; &lt;*&gt; added Mode: scheduled</td>\n",
       "      <td>390</td>\n",
       "    </tr>\n",
       "    <tr>\n",
       "      <th>77</th>\n",
       "      <td>2c06ea44</td>\n",
       "      <td>Registry Value &lt;*&gt; &lt;*&gt; deleted Mode: scheduled</td>\n",
       "      <td>231</td>\n",
       "    </tr>\n",
       "  </tbody>\n",
       "</table>\n",
       "</div>"
      ],
      "text/plain": [
       "     EventId                                      EventTemplate  Occurrences\n",
       "30  543d1aa3        Registry <*> '[x32] <*> <*> Mode: scheduled         4930\n",
       "26  1f5d426b  Registry Value '[x32] <*> modified Mode: sched...         1364\n",
       "27  9fe42205  Registry Key <*> <*> modified Mode: scheduled ...          627\n",
       "35  0de3dab3     Registry <*> <*> <*> <*> added Mode: scheduled          390\n",
       "77  2c06ea44     Registry Value <*> <*> deleted Mode: scheduled          231"
      ]
     },
     "execution_count": 49,
     "metadata": {},
     "output_type": "execute_result"
    }
   ],
   "source": [
    "tw.sort_values(by=\"Occurrences\", ascending=False).head()"
   ]
  },
  {
   "cell_type": "code",
   "execution_count": 50,
   "id": "41a8ab0c",
   "metadata": {},
   "outputs": [
    {
     "data": {
      "text/plain": [
       "160"
      ]
     },
     "execution_count": 50,
     "metadata": {},
     "output_type": "execute_result"
    }
   ],
   "source": [
    "del sl, sw, tl, tw\n",
    "gc.collect()"
   ]
  },
  {
   "cell_type": "markdown",
   "id": "a9da54d8",
   "metadata": {},
   "source": [
    "### 2.3. FT-Tree"
   ]
  },
  {
   "cell_type": "markdown",
   "id": "64781c2e",
   "metadata": {},
   "source": [
    "_FT-Tree (Frequent Template Tree) Parser_\n",
    "\n",
    "**What it does**:  \n",
    "- **Input**: Tokenized logs (words).  \n",
    "- **Key Features**:  \n",
    "  - Builds a **prefix tree** weighted by token frequency.  \n",
    "  - **Prunes branches** with low frequency (`leaf_num` parameter).  \n",
    "  - Focuses on **common patterns** (ignores rare variants).  \n",
    "\n",
    "**Output**:  \n",
    "- **Frequent log templates** (e.g., `\"Connection <*> failed after <*> retries\"`).  \n",
    "\n",
    "**Best for**:  \n",
    "- **Large-scale logs** where rare patterns are noise.  \n",
    "- Scenarios needing **pattern frequency analysis** (e.g., anomaly detection).  "
   ]
  },
  {
   "cell_type": "code",
   "execution_count": 51,
   "id": "f577e607",
   "metadata": {},
   "outputs": [
    {
     "data": {
      "text/plain": [
       "(114849, 6655, 1462, 237)"
      ]
     },
     "execution_count": 51,
     "metadata": {},
     "output_type": "execute_result"
    }
   ],
   "source": [
    "FTT_DIR = os.path.join(DATA_DIR, \"ft_tree\")\n",
    "\n",
    "# fre data\n",
    "with open(os.path.join(FTT_DIR, L + \".fre\"), \"r\") as f:\n",
    "    fl = f.readlines()\n",
    "with open(os.path.join(FTT_DIR, W + \".fre\"), \"r\") as f:\n",
    "    fw = f.readlines()\n",
    "\n",
    "# templates data\n",
    "with open(os.path.join(FTT_DIR, L + \".template\"), \"r\") as f:\n",
    "    tl = f.readlines()\n",
    "with open(os.path.join(FTT_DIR, W + \".template\"), \"r\") as f:\n",
    "    tw = f.readlines()\n",
    "\n",
    "len(fl), len(fw), len(tl), len(tw)"
   ]
  },
  {
   "cell_type": "code",
   "execution_count": 52,
   "id": "def90ef1",
   "metadata": {},
   "outputs": [
    {
     "data": {
      "text/plain": [
       "['<MEMORY_ADDR>\\n',\n",
       " '<PROCESS_ID>\\n',\n",
       " 'type=PATH\\n',\n",
       " 'cap_fver=0\\n',\n",
       " 'cap_frootid=0\\n']"
      ]
     },
     "execution_count": 52,
     "metadata": {},
     "output_type": "execute_result"
    }
   ],
   "source": [
    "fl[:5]"
   ]
  },
  {
   "cell_type": "code",
   "execution_count": 53,
   "id": "a3f4ca5c",
   "metadata": {},
   "outputs": [
    {
     "data": {
      "text/plain": [
       "[\"'<HEX_DATA>'\\n\", 'Mode:\\n', 'scheduled\\n', 'Registry\\n', \"'[x32]\\n\"]"
      ]
     },
     "execution_count": 53,
     "metadata": {},
     "output_type": "execute_result"
    }
   ],
   "source": [
    "fw[:5]"
   ]
  },
  {
   "cell_type": "code",
   "execution_count": 54,
   "id": "f2101236",
   "metadata": {},
   "outputs": [
    {
     "data": {
      "text/plain": [
       "[' <MEMORY_ADDR> <PROCESS_ID> fsuid=0 euid=0 FSUID=\"root\" type=SYSCALL suid=0 SUID=\"root\" EUID=\"root\" ARCH=x86_64 subj=unconfined key=\"audit-wazuh-c\" syscall=59 SYSCALL=execve UID=\"root\" success=yes exit=0 type=EXECVE items=2 GID=\"root\" sgid=0 fsgid=0 egid=0 SGID=\"root\" FSGID=\"root\" EGID=\"root\" a3=8 auid=1000 AUID=\"sohaib\" ses=2 tty=pts2 exe=\"/usr/bin/kmod\" comm=\"modprobe\" a0=\"modprobe\" a1=\"--all\" a5=\"--show-depends\" a4=\"--quiet\" a3=\"--ignore-install\" a2=\"--set-version=6.2.0-39-generic\" a9=\"atusb\" a99=\"ec_bhf\" a98=\"ks8851_spi\" a97=\"ks8842\" a96=\"ks8851_par\" a95=\"ks8851_common\" a94=\"ksz884x\" a93=\"bna\" a92=\"8139cp\" a91=\"8139too\" a90=\"r8169\" a8=\"fakelb\" a89=\"atp\" a88=\"ethoc\" a87=\"hinic\" a86=\"fealnx\" a85=\"rmnet\" a84=\"qcom-emac\" a83=\"uli526x\" a82=\"dmfe\" a81=\"de2104x\" a80=\"xircom_cb\" a7=\"nlmon\" a79=\"winbond-840\" a78=\"tulip\" a77=\"tsnep\" a76=\"xilinx_emac\" a75=\"ll_temac\" a74=\"xilinx_emaclite\" a73=\"enic\" a72=\"samsung-sxgbe\" a71=\"geneve\" a70=\"slip\" a6=\"gtp\" a69=\"wireguard\" a68=\"nxp-tja11xx\" a67=\"dp83848\" a66=\"micrel\" a65=\"dp83822\" a64=\"mscc\" a63=\"rockchip\" a62=\"cicada\" a61=\"dp83td510\" a60=\"smsc\" a59=\"national\" a58=\"adin1100\" a57=\"nxp-c45-tja11xx\" a56=\"bcm-phy-ptp\" a55=\"et1011c\" a54=\"intel-xway\" a53=\"mxl-gpy\" a52=\"dp83tc811\" a51=\"xilinx_gmii2rgmii\" a50=\"davicom\" a49=\"lxt\" a48=\"broadcom\" a47=\"bcm87xx\" a46=\"bcm7xxx\" a45=\"marvell-88x2222\" a44=\"phylink\" a43=\"amd\" a42=\"at803x\" a41=\"marvell10g\" a40=\"marvell\" a39=\"adin\" a38=\"icplus\" a37=\"vitesse\" a36=\"teranetics\" a35=\"ax88796b\" a34=\"aquantia\" a33=\"microchip\" a32=\"ste10Xp\" a31=\"dp83869\" a30=\"sfp\" a29=\"dp83640\" a28=\"bcm54140\" a27=\"qsemi\" a26=\"uPD60620\" a25=\"realtek\" a24=\"mediatek-ge\" a244=\"mhi_wwan_mbim\" a243=\"dwc-xlgmac\" a242=\"sungem\" a241=\"cassini\" a240=\"sunhme\" a23=\"microchip_t1\" a239=\"niu\" a238=\"stmmac-pci\" a237=\"dwmac-loongson\" a236=\"dwmac-intel\" a235=\"stmmac-platform\" a234=\"dwmac-generic\" a233=\"stmmac\" a232=\"mse102x\" a231=\"natsemi\" a230=\"ns83820\" a22=\"motorcomm\" a229=\"tlan\" a228=\"ena\" a227=\"sundance\" a226=\"dl2k\" a225=\"mvmdio\" a224=\"skge\" a223=\"prestera_pci\" a222=\"prestera\" a221=\"octeon_ep\" a220=\"sky2\" a21=\"cortina\" a219=\"et131x\" a218=\"gve\" a217=\"mscc_ocelot_switch_lib\" a216=\"e100\" a215=\"iavf\" a214=\"i40e\" a213=\"fm10k\" a212=\"igbvf\" a211=\"igb\" a210=\"ixgbe\" a20=\"bcm-phy-lib\" a209=\"igc\" a208=\"ixgb\" a207=\"ixgbevf\" a206=\"e1000e\" a205=\"ice\" a204=\"e1000\" a203=\"smsc9420\" a202=\"smsc911x\" a201=\"smc91c92_cs\" a200=\"epic100\" a19=\"spi_ks8995\" a199=\"nfp\" a198=\"funeth\" a197=\"funcore\" a196=\"rocker\" a195=\"mlxfw\" a194=\"mlx5_core\" a193=\"mlxsw_minimal\" a192=\"mlxsw_pci\" a191=\"mlxsw_core\" a190=\"mlxsw_spectrum\" a18=\"dp83867\" a189=\"mlxsw_i2c\" a188=\"mlx4_core\" a187=\"mlx4_en\" a186=\"fmvj18x_cs\" a185=\"slicoss\" a184=\"qla3xxx\" a183=\"qed\" a182=\"qlcnic\" a181=\"netxen_nic\" a180=\"qede\" a17=\"vxlan\" a179=\"s2io\" a178=\"forcedeth\" a177=\"pcnet_cs\" a176=\"axnet_cs\" a175=\"ne2k-pci\" a174=\"8390\" a173=\"starfire\" a172=\"typhoon\" a171=\"3c59x\" a170=\"3c509\" a16=\"at86rf230\" a169=\"3c574_cs\" a168=\"3c589_cs\" a167=\"atl1e\" a166=\"atl1\" a165=\"atl2\" a164=\"atl1c\" a163=\"alx\" a162=\"w5100\" a161=\"w5100-spi\" a160=\"w5300\" a15=\"mrf24j40\" a159=\"tg3\" a158=\"cnic\" a157=\"bnxt_en\" a156=\"bcmsysport\" a155=\"bnx2x\" a154=\"genet\" a153=\"b44\" a152=\"bnx2\" a151=\"macb\" a150=\"macb_pci\" a14=\"adf7242\" a149=\"ionic\" a148=\"r6040\" a147=\"hamachi\" a146=\"yellowfin\" a145=\"sc92031\" a144=\"cxgb3\" a143=\"libcxgb\" a142=\"cxgb\" a141=\"ch_ipsec\" a140=\"ch_ktls\" a13=\"cc2520\" a139=\"cxgb4vf\" a138=\"cxgb4\" a137=\"xirc2ps_cs\" a136=\"myri10ge\" a135=\"encx24j600-regmap\" a134=\"enc28j60\" a133=\"lan743x\" a132=\"encx24j600\" a131=\"liquidio_vf\" a130=\"liquidio\" a12=\"mac802154_hwsim\" a129=\"cavium_ptp\" a128=\"thunder_bgx\" a127=\"nicvf\" a126=\"thunder_xcv\" a125=\"nicpf\" a124=\"sfc-siena\" a123=\"sfc-falcon\" a122=\"sfc\" a121=\"jme\" a120=\"dnet\" a11=\"mcr20a\" a119=\"ax88796c\" a118=\"txgbe\" a117=\"libwx\" a116=\"ngbe\" a115=\"nmclan_cs\" a114=\"amd-xgbe\" a113=\"amd8111e\" a112=\"pcnet32\" a111=\"atlantic\" a110=\"adin1110\" a10=\"ca8210\" a109=\"be2net\" a108=\"altera_tse\" a107=\"acenic\" a106=\"via-rhine\" a105=\"via-velocity\" a104=\"mana\" a103=\"tehuti\" a102=\"sis900\" a101=\"sis190\" a100=\"nixge\" msg=audit(<LONG_NUM>.132:6641): argc=354 a257=\"bcm-sf2\" a256=\"b53_mdio\" a255=\"b53_srab\" a254=\"b53_mmap\" a253=\"b53_common\" a252=\"b53_spi\" a251=\"b53_serdes\" a250=\"wwan_hwsim\" a249=\"mhi_wwan_ctrl\" a248=\"iosm\" a247=\"rpmsg_wwan_ctrl\" a246=\"mtk_t7xx\" a245=\"wwan\"\\n',\n",
       " ' <MEMORY_ADDR> <PROCESS_ID> fsuid=0 euid=0 FSUID=\"root\" type=SYSCALL suid=0 SUID=\"root\" EUID=\"root\" ARCH=x86_64 subj=unconfined key=\"audit-wazuh-c\" syscall=59 SYSCALL=execve UID=\"root\" success=yes exit=0 type=EXECVE items=2 GID=\"root\" sgid=0 fsgid=0 egid=0 SGID=\"root\" FSGID=\"root\" EGID=\"root\" a3=8 auid=1000 AUID=\"sohaib\" ses=2 tty=pts2 exe=\"/usr/bin/kmod\" comm=\"modprobe\" a0=\"modprobe\" a1=\"--all\" a5=\"--show-depends\" a4=\"--quiet\" a3=\"--ignore-install\" a2=\"--set-version=6.2.0-36-generic\" a9=\"atusb\" a99=\"ec_bhf\" a98=\"ks8851_spi\" a97=\"ks8842\" a96=\"ks8851_par\" a95=\"ks8851_common\" a94=\"ksz884x\" a93=\"bna\" a92=\"8139cp\" a91=\"8139too\" a90=\"r8169\" a8=\"fakelb\" a89=\"atp\" a88=\"ethoc\" a87=\"hinic\" a86=\"fealnx\" a85=\"rmnet\" a84=\"qcom-emac\" a83=\"uli526x\" a82=\"dmfe\" a81=\"de2104x\" a80=\"xircom_cb\" a7=\"nlmon\" a79=\"winbond-840\" a78=\"tulip\" a77=\"tsnep\" a76=\"xilinx_emac\" a75=\"ll_temac\" a74=\"xilinx_emaclite\" a73=\"enic\" a72=\"samsung-sxgbe\" a71=\"geneve\" a70=\"slip\" a6=\"gtp\" a69=\"wireguard\" a68=\"nxp-tja11xx\" a67=\"dp83848\" a66=\"micrel\" a65=\"dp83822\" a64=\"mscc\" a63=\"rockchip\" a62=\"cicada\" a61=\"dp83td510\" a60=\"smsc\" a59=\"national\" a58=\"adin1100\" a57=\"nxp-c45-tja11xx\" a56=\"bcm-phy-ptp\" a55=\"et1011c\" a54=\"intel-xway\" a53=\"mxl-gpy\" a52=\"dp83tc811\" a51=\"xilinx_gmii2rgmii\" a50=\"davicom\" a49=\"lxt\" a48=\"broadcom\" a47=\"bcm87xx\" a46=\"bcm7xxx\" a45=\"marvell-88x2222\" a44=\"phylink\" a43=\"amd\" a42=\"at803x\" a41=\"marvell10g\" a40=\"marvell\" a39=\"adin\" a38=\"icplus\" a37=\"vitesse\" a36=\"teranetics\" a35=\"ax88796b\" a34=\"aquantia\" a33=\"microchip\" a32=\"ste10Xp\" a31=\"dp83869\" a30=\"sfp\" a29=\"dp83640\" a28=\"bcm54140\" a27=\"qsemi\" a26=\"uPD60620\" a25=\"realtek\" a24=\"mediatek-ge\" a244=\"mhi_wwan_mbim\" a243=\"dwc-xlgmac\" a242=\"sungem\" a241=\"cassini\" a240=\"sunhme\" a23=\"microchip_t1\" a239=\"niu\" a238=\"stmmac-pci\" a237=\"dwmac-loongson\" a236=\"dwmac-intel\" a235=\"stmmac-platform\" a234=\"dwmac-generic\" a233=\"stmmac\" a232=\"mse102x\" a231=\"natsemi\" a230=\"ns83820\" a22=\"motorcomm\" a229=\"tlan\" a228=\"ena\" a227=\"sundance\" a226=\"dl2k\" a225=\"mvmdio\" a224=\"skge\" a223=\"prestera_pci\" a222=\"prestera\" a221=\"octeon_ep\" a220=\"sky2\" a21=\"cortina\" a219=\"et131x\" a218=\"gve\" a217=\"mscc_ocelot_switch_lib\" a216=\"e100\" a215=\"iavf\" a214=\"i40e\" a213=\"fm10k\" a212=\"igbvf\" a211=\"igb\" a210=\"ixgbe\" a20=\"bcm-phy-lib\" a209=\"igc\" a208=\"ixgb\" a207=\"ixgbevf\" a206=\"e1000e\" a205=\"ice\" a204=\"e1000\" a203=\"smsc9420\" a202=\"smsc911x\" a201=\"smc91c92_cs\" a200=\"epic100\" a19=\"spi_ks8995\" a199=\"nfp\" a198=\"funeth\" a197=\"funcore\" a196=\"rocker\" a195=\"mlxfw\" a194=\"mlx5_core\" a193=\"mlxsw_minimal\" a192=\"mlxsw_pci\" a191=\"mlxsw_core\" a190=\"mlxsw_spectrum\" a18=\"dp83867\" a189=\"mlxsw_i2c\" a188=\"mlx4_core\" a187=\"mlx4_en\" a186=\"fmvj18x_cs\" a185=\"slicoss\" a184=\"qla3xxx\" a183=\"qed\" a182=\"qlcnic\" a181=\"netxen_nic\" a180=\"qede\" a17=\"vxlan\" a179=\"s2io\" a178=\"forcedeth\" a177=\"pcnet_cs\" a176=\"axnet_cs\" a175=\"ne2k-pci\" a174=\"8390\" a173=\"starfire\" a172=\"typhoon\" a171=\"3c59x\" a170=\"3c509\" a16=\"at86rf230\" a169=\"3c574_cs\" a168=\"3c589_cs\" a167=\"atl1e\" a166=\"atl1\" a165=\"atl2\" a164=\"atl1c\" a163=\"alx\" a162=\"w5100\" a161=\"w5100-spi\" a160=\"w5300\" a15=\"mrf24j40\" a159=\"tg3\" a158=\"cnic\" a157=\"bnxt_en\" a156=\"bcmsysport\" a155=\"bnx2x\" a154=\"genet\" a153=\"b44\" a152=\"bnx2\" a151=\"macb\" a150=\"macb_pci\" a14=\"adf7242\" a149=\"ionic\" a148=\"r6040\" a147=\"hamachi\" a146=\"yellowfin\" a145=\"sc92031\" a144=\"cxgb3\" a143=\"libcxgb\" a142=\"cxgb\" a141=\"ch_ipsec\" a140=\"ch_ktls\" a13=\"cc2520\" a139=\"cxgb4vf\" a138=\"cxgb4\" a137=\"xirc2ps_cs\" a136=\"myri10ge\" a135=\"encx24j600-regmap\" a134=\"enc28j60\" a133=\"lan743x\" a132=\"encx24j600\" a131=\"liquidio_vf\" a130=\"liquidio\" a12=\"mac802154_hwsim\" a129=\"cavium_ptp\" a128=\"thunder_bgx\" a127=\"nicvf\" a126=\"thunder_xcv\" a125=\"nicpf\" a124=\"sfc-siena\" a123=\"sfc-falcon\" a122=\"sfc\" a121=\"jme\" a120=\"dnet\" a11=\"mcr20a\" a119=\"ax88796c\" a118=\"txgbe\" a117=\"libwx\" a116=\"ngbe\" a115=\"nmclan_cs\" a114=\"amd-xgbe\" a113=\"amd8111e\" a112=\"pcnet32\" a111=\"atlantic\" a110=\"adin1110\" a10=\"ca8210\" a109=\"be2net\" a108=\"altera_tse\" a107=\"acenic\" a106=\"via-rhine\" a105=\"via-velocity\" a104=\"mana\" a103=\"tehuti\" a102=\"sis900\" a101=\"sis190\" a100=\"nixge\" msg=audit(<LONG_NUM>.992:12300): argc=353 a257=\"vitesse-vsc73xx-spi\" a256=\"bcm-sf2\" a255=\"b53_mdio\" a254=\"b53_srab\" a253=\"b53_mmap\" a252=\"b53_common\" a251=\"b53_spi\" a250=\"b53_serdes\" a249=\"wwan_hwsim\" a248=\"mhi_wwan_ctrl\" a247=\"iosm\" a246=\"rpmsg_wwan_ctrl\" a245=\"mtk_t7xx\"\\n',\n",
       " ' <MEMORY_ADDR> <PROCESS_ID> fsuid=0 euid=0 FSUID=\"root\" type=SYSCALL suid=0 SUID=\"root\" EUID=\"root\" ARCH=x86_64 subj=unconfined key=\"audit-wazuh-c\" syscall=59 SYSCALL=execve UID=\"root\" success=yes exit=0 type=EXECVE items=2 GID=\"root\" sgid=0 fsgid=0 egid=0 SGID=\"root\" FSGID=\"root\" EGID=\"root\" auid=1000 AUID=\"sohaib\" ses=2 tty=pts2 exe=\"/usr/bin/kmod\" comm=\"modprobe\" a0=\"modprobe\" a1=\"--all\" a3=\"--quiet\" a2=\"--set-version=6.2.0-36-generic\" a4=\"--show-depends\" msg=audit(<LONG_NUM>.464:12310): a9=\"ca8210\" a99=\"nixge\" a98=\"ec_bhf\" a97=\"ks8851_spi\" a96=\"ks8842\" a95=\"ks8851_par\" a94=\"ks8851_common\" a93=\"ksz884x\" a92=\"bna\" a91=\"8139cp\" a90=\"8139too\" a8=\"atusb\" a89=\"r8169\" a88=\"atp\" a87=\"ethoc\" a86=\"hinic\" a85=\"fealnx\" a84=\"rmnet\" a83=\"qcom-emac\" a82=\"uli526x\" a81=\"dmfe\" a80=\"de2104x\" a7=\"fakelb\" a79=\"xircom_cb\" a78=\"winbond-840\" a77=\"tulip\" a76=\"tsnep\" a75=\"xilinx_emac\" a74=\"ll_temac\" a73=\"xilinx_emaclite\" a72=\"enic\" a71=\"samsung-sxgbe\" a70=\"geneve\" a6=\"nlmon\" a69=\"slip\" a68=\"wireguard\" a67=\"nxp-tja11xx\" a66=\"dp83848\" a65=\"micrel\" a64=\"dp83822\" a63=\"mscc\" a62=\"rockchip\" a61=\"cicada\" a60=\"dp83td510\" a5=\"gtp\" a59=\"smsc\" a58=\"national\" a57=\"adin1100\" a56=\"nxp-c45-tja11xx\" a55=\"bcm-phy-ptp\" a54=\"et1011c\" a53=\"intel-xway\" a52=\"mxl-gpy\" a51=\"dp83tc811\" a50=\"xilinx_gmii2rgmii\" a49=\"davicom\" a48=\"lxt\" a47=\"broadcom\" a46=\"bcm87xx\" a45=\"bcm7xxx\" a44=\"marvell-88x2222\" a43=\"phylink\" a42=\"amd\" a41=\"at803x\" a40=\"marvell10g\" a39=\"marvell\" a38=\"adin\" a37=\"icplus\" a36=\"vitesse\" a35=\"teranetics\" a34=\"ax88796b\" a33=\"aquantia\" a32=\"microchip\" a31=\"ste10Xp\" a30=\"dp83869\" a29=\"sfp\" a28=\"dp83640\" a27=\"bcm54140\" a26=\"qsemi\" a25=\"uPD60620\" a24=\"realtek\" a243=\"mhi_wwan_mbim\" a242=\"dwc-xlgmac\" a241=\"sungem\" a240=\"cassini\" a23=\"mediatek-ge\" a239=\"sunhme\" a238=\"niu\" a237=\"stmmac-pci\" a236=\"dwmac-loongson\" a235=\"dwmac-intel\" a234=\"stmmac-platform\" a233=\"dwmac-generic\" a232=\"stmmac\" a231=\"mse102x\" a230=\"natsemi\" a22=\"microchip_t1\" a229=\"ns83820\" a228=\"tlan\" a227=\"ena\" a226=\"sundance\" a225=\"dl2k\" a224=\"mvmdio\" a223=\"skge\" a222=\"prestera_pci\" a221=\"prestera\" a220=\"octeon_ep\" a21=\"motorcomm\" a219=\"sky2\" a218=\"et131x\" a217=\"gve\" a216=\"mscc_ocelot_switch_lib\" a215=\"e100\" a214=\"iavf\" a213=\"i40e\" a212=\"fm10k\" a211=\"igbvf\" a210=\"igb\" a20=\"cortina\" a209=\"ixgbe\" a208=\"igc\" a207=\"ixgb\" a206=\"ixgbevf\" a205=\"e1000e\" a204=\"ice\" a203=\"e1000\" a202=\"smsc9420\" a201=\"smsc911x\" a200=\"smc91c92_cs\" a19=\"bcm-phy-lib\" a199=\"epic100\" a198=\"nfp\" a197=\"funeth\" a196=\"funcore\" a195=\"rocker\" a194=\"mlxfw\" a193=\"mlx5_core\" a192=\"mlxsw_minimal\" a191=\"mlxsw_pci\" a190=\"mlxsw_core\" a18=\"spi_ks8995\" a189=\"mlxsw_spectrum\" a188=\"mlxsw_i2c\" a187=\"mlx4_core\" a186=\"mlx4_en\" a185=\"fmvj18x_cs\" a184=\"slicoss\" a183=\"qla3xxx\" a182=\"qed\" a181=\"qlcnic\" a180=\"netxen_nic\" a17=\"dp83867\" a179=\"qede\" a178=\"s2io\" a177=\"forcedeth\" a176=\"pcnet_cs\" a175=\"axnet_cs\" a174=\"ne2k-pci\" a173=\"8390\" a172=\"starfire\" a171=\"typhoon\" a170=\"3c59x\" a16=\"vxlan\" a169=\"3c509\" a168=\"3c574_cs\" a167=\"3c589_cs\" a166=\"atl1e\" a165=\"atl1\" a164=\"atl2\" a163=\"atl1c\" a162=\"alx\" a161=\"w5100\" a160=\"w5100-spi\" a15=\"at86rf230\" a159=\"w5300\" a158=\"tg3\" a157=\"cnic\" a156=\"bnxt_en\" a155=\"bcmsysport\" a154=\"bnx2x\" a153=\"genet\" a152=\"b44\" a151=\"bnx2\" a150=\"macb\" a14=\"mrf24j40\" a149=\"macb_pci\" a148=\"ionic\" a147=\"r6040\" a146=\"hamachi\" a145=\"yellowfin\" a144=\"sc92031\" a143=\"cxgb3\" a142=\"libcxgb\" a141=\"cxgb\" a140=\"ch_ipsec\" a13=\"adf7242\" a139=\"ch_ktls\" a138=\"cxgb4vf\" a137=\"cxgb4\" a136=\"xirc2ps_cs\" a135=\"myri10ge\" a134=\"encx24j600-regmap\" a133=\"enc28j60\" a132=\"lan743x\" a131=\"encx24j600\" a130=\"liquidio_vf\" a12=\"cc2520\" a129=\"liquidio\" a128=\"cavium_ptp\" a127=\"thunder_bgx\" a126=\"nicvf\" a125=\"thunder_xcv\" a124=\"nicpf\" a123=\"sfc-siena\" a122=\"sfc-falcon\" a121=\"sfc\" a120=\"jme\" a11=\"mac802154_hwsim\" a119=\"dnet\" a118=\"ax88796c\" a117=\"txgbe\" a116=\"libwx\" a115=\"ngbe\" a114=\"nmclan_cs\" a113=\"amd-xgbe\" a112=\"amd8111e\" a111=\"pcnet32\" a110=\"atlantic\" a10=\"mcr20a\" a109=\"adin1110\" a108=\"be2net\" a107=\"altera_tse\" a106=\"acenic\" a105=\"via-rhine\" a104=\"via-velocity\" a103=\"mana\" a102=\"tehuti\" a101=\"sis900\" a100=\"sis190\" argc=352 a257=\"mv88e6060\" a256=\"vitesse-vsc73xx-spi\" a255=\"bcm-sf2\" a254=\"b53_mdio\" a253=\"b53_srab\" a252=\"b53_mmap\" a251=\"b53_common\" a250=\"b53_spi\" a249=\"b53_serdes\" a248=\"wwan_hwsim\" a247=\"mhi_wwan_ctrl\" a246=\"iosm\" a245=\"rpmsg_wwan_ctrl\" a244=\"mtk_t7xx\"\\n',\n",
       " ' <MEMORY_ADDR> <PROCESS_ID> fsuid=0 euid=0 FSUID=\"root\" type=SYSCALL suid=0 SUID=\"root\" EUID=\"root\" ARCH=x86_64 subj=unconfined key=\"audit-wazuh-c\" syscall=59 SYSCALL=execve UID=\"root\" success=yes exit=0 type=EXECVE items=2 GID=\"root\" sgid=0 fsgid=0 egid=0 SGID=\"root\" FSGID=\"root\" EGID=\"root\" auid=1000 AUID=\"sohaib\" ses=2 tty=pts2 exe=\"/usr/bin/kmod\" a3=1 comm=\"modprobe\" a0=\"modprobe\" a1=\"--all\" a3=\"--quiet\" a2=\"--set-version=6.2.0-36-generic\" a4=\"--show-depends\" argc=69 a9=\"f2fs\" a8=\"ext4\" a7=\"ext3\" a6=\"ext2\" a68=\"842-decompress\" a67=\"nx-compress-powernv\" a66=\"nx-compress-pseries\" a65=\"nx-compress-platform\" a64=\"nx-compress-crypto\" a63=\"nx-compress\" a62=\"hyperv-keyboard\" a61=\"hv_storvsc\" a60=\"hv_mouse\" a5=\"btrfs\" a59=\"hv_netvsc\" a58=\"hv_utils\" a57=\"hv_vmbus\" a56=\"sun8i-mixer\" a55=\"sun4i-drm\" a54=\"pwm-sun4i\" a53=\"analogix-anx6345\" a52=\"panel-simple\" a51=\"pwm_bl\" a50=\"pwm-cros-ec\" a49=\"rockchipdrm\" a48=\"firewire-sbp2\" a47=\"firewire-ohci\" a46=\"sbp2\" a45=\"ohci1394\" a44=\"dasd_fba_mod\" a43=\"dasd_eckd_mod\" a42=\"dasd_diag_mod\" a41=\"i2o_block\" a40=\"vmd\" a39=\"zfcp\" a38=\"mptspi\" a37=\"mptscsih\" a36=\"mptsas\" a35=\"mptfc\" a34=\"8021q\" a33=\"cros_ec_spi\" a32=\"axp20x_usb_power\" a31=\"extcon-usbc-cros-ec\" a30=\"extcon-usb-gpio\" a29=\"stusb160x\" a28=\"nls_iso8859-1\" a27=\"nls_cp437\" a26=\"vfat\" a25=\"virtio_mmio\" a24=\"virtio_pci\" a23=\"psmouse\" a22=\"i8042\" a21=\"atkbd\" a20=\"af_packet\" a19=\"nfsv4\" a18=\"nfsv3\" a17=\"nfsv2\" a16=\"nfs\" a15=\"xfs\" a14=\"udf\" a13=\"squashfs\" a12=\"reiserfs\" a11=\"jfs\" a10=\"isofs\" msg=audit(<LONG_NUM>.420:14610):\\n',\n",
       " ' <MEMORY_ADDR> <PROCESS_ID> fsuid=0 euid=0 FSUID=\"root\" type=SYSCALL suid=0 SUID=\"root\" EUID=\"root\" ARCH=x86_64 subj=unconfined key=\"audit-wazuh-c\" syscall=59 SYSCALL=execve UID=\"root\" success=yes exit=0 type=EXECVE items=2 GID=\"root\" sgid=0 fsgid=0 egid=0 SGID=\"root\" FSGID=\"root\" EGID=\"root\" auid=1000 AUID=\"sohaib\" ses=2 tty=pts2 exe=\"/usr/bin/kmod\" a3=1 comm=\"modprobe\" a0=\"modprobe\" a1=\"--all\" a3=\"--quiet\" a2=\"--set-version=6.2.0-36-generic\" a4=\"--show-depends\" argc=42 a9=\"spi-pxa2xx-platform\" a8=\"spi-pci1xxxx\" a7=\"spi-xcomm\" a6=\"spi-lantiq-ssc\" a5=\"spi-axi-spi-engine\" a41=\"spi-dw-pci\" a40=\"spi-zynqmp-gqspi\" a39=\"spi-dln2\" a38=\"spi-sc18is602\" a37=\"spi-intel\" a36=\"spi-rockchip\" a35=\"spi-butterfly\" a34=\"spi-mxic\" a33=\"spi-mux\" a32=\"spi-dw-mmio\" a31=\"spi-microchip-core\" a30=\"spi-altera-dfl\" a29=\"spi-dw\" a28=\"spi-slave-time\" a27=\"spi-sifive\" a26=\"spi-intel-pci\" a25=\"spi-oc-tiny\" a24=\"spi-lm70llp\" a23=\"spi-tle62x0\" a22=\"spi-amd\" a21=\"spi-altera-core\" a20=\"spi-slave-system-control\" a19=\"spi-altera-platform\" a18=\"spi-cadence\" a17=\"spi-microchip-core-qspi\" a16=\"spi-nxp-fspi\" a15=\"spidev\" a14=\"spi-gpio\" a13=\"spi-loopback-test\" a12=\"spi-pxa2xx-pci\" a11=\"spi-bitbang\" a10=\"spi-intel-platform\" msg=audit(<LONG_NUM>.792:11854):\\n']"
      ]
     },
     "execution_count": 54,
     "metadata": {},
     "output_type": "execute_result"
    }
   ],
   "source": [
    "tl[:5]"
   ]
  },
  {
   "cell_type": "code",
   "execution_count": 55,
   "id": "ac9ddfa1",
   "metadata": {},
   "outputs": [
    {
     "data": {
      "text/plain": [
       "[' Windows® Operating Windows System\\\\r\\\\nCompany: System\",\"company\":\"Microsoft Microsoft® Microsoft Create:\\\\r\\\\nRuleName: Corporation\\\\r\\\\nOriginalFileName: <TIMESTAMP>\\\\r\\\\nProcessGuid: <MEMORY_ADDR>\\\\r\\\\nTerminalSessionId: (WinBuild.160101.0800)\\\\r\\\\nDescription: Command 1\\\\r\\\\nIntegrityLevel: (WinBuild.160101.0800)\",\"description\":\"Windows SHA1=<HEX_DATA>,MD5=<HEX_DATA>,SHA256=<HEX_DATA>,IMPHASH=<HEX_DATA>\\\\r\\\\nParentProcessGuid: DESKTOP-QGB4EQH\\\\\\\\mari\\\\r\\\\nLogonGuid: C:\\\\\\\\Windows\\\\\\\\system32\\\\\\\\\\\\r\\\\nUser: 10.0.17134.1 Processor\\\\r\\\\nProduct: Processor\",\"product\":\"Microsoft® Cmd.Exe\\\\r\\\\nCommandLine: High\\\\r\\\\nHashes: + ($env:TEMP \\\\r\\\\nCurrentDirectory: -C Stop-Process Bypass = -PassThru -ID -FilePath -ExecutionPolicy (Start-Process $myT1036_003 technique_id=T1059.003,technique_name=Windows powershell.exe \\\\\\\\\\\\\\\\\\\\\\\\\\\\\"\\\\\\\\\\\\\\\\svchost.exe\\\\\\\\\\\\\\\\\\\\\\\\\\\\\"); \\\\\\\\\\\\\\\\\\\\\\\\\\\\\"\\\\\\\\\\\\\\\\svchost.exe\\\\\\\\\\\\\\\\\\\\\\\\\\\\\")).Id; \\\\\\\\\\\\\\\\\\\\\\\\\\\\\"$env:ComSpec\\\\\\\\\\\\\\\\\\\\\\\\\\\\\" \\\\\\\\\\\\\"copy \\\\\\\\\\\\\"\\\\\\\\svchost.exe\\\\\\\\\\\\\"); \\\\\\\\\\\\\"\\\\\\\\svchost.exe\\\\\\\\\\\\\")).Id; \\\\\\\\\\\\\"$env:ComSpec\\\\\\\\\\\\\" \\\\\"copy \\\\\"C:\\\\\\\\Users\\\\\\\\mari\\\\\\\\AppData\\\\\\\\Local\\\\\\\\Temp\\\\\\\\svchost.exe\\\\\" Shell\\\\r\\\\nUtcTime: DESKTOP-QGB4EQH\\\\\\\\mari\\\\\"\"},\"eventdata\":{\"ruleName\":\"technique_id=T1059.003,technique_name=Windows C:\\\\\\\\Windows\\\\\\\\System32\\\\\\\\WindowsPowerShell\\\\\\\\v1.0\\\\\\\\powershell.exe\\\\r\\\\nParentCommandLine: C:\\\\\\\\Users\\\\\\\\mari\\\\\\\\AppData\\\\\\\\Local\\\\\\\\Temp\\\\\\\\svchost.exe\\\\r\\\\nFileVersion: $myT1036_003\\\\\\\\\\\\\"\",\"parentUser\":\"DESKTOP-QGB4EQH\\\\\\\\\\\\\\\\mari\"}}} $myT1036_003\\\\\"\\\\r\\\\nParentUser: {15959494-DC20-6744-29FD-<LONG_NUM>}\\\\r\\\\nLogonId: {15959494-06E9-6745-8C05-<LONG_NUM>}\\\\r\\\\nProcessId: {15959494-06E7-6745-8B05-<LONG_NUM>}\\\\r\\\\nParentProcessId: {\"win\":{\"system\":{\"providerName\":\"Microsoft-Windows-Sysmon\",\"providerGuid\":\"{5770385F-C22A-43E0-BF4C-06F5698FFBD9}\",\"eventID\":\"1\",\"version\":\"5\",\"level\":\"4\",\"task\":\"1\",\"opcode\":\"0\",\"keywords\":\"<MEMORY_ADDR>\",\"systemTime\":\"<TIMESTAMP>\",\"eventRecordID\":\"8109\",\"processID\":\"7064\",\"threadID\":\"9072\",\"channel\":\"Microsoft-Windows-Sysmon/Operational\",\"computer\":\"DESKTOP-QGB4EQH\",\"severityValue\":\"INFORMATION\",\"message\":\"\\\\\"Process Shell\",\"utcTime\":\"<TIMESTAMP>\",\"processGuid\":\"{15959494-06E9-6745-8C05-<LONG_NUM>}\",\"processId\":\"4368\",\"image\":\"C:\\\\\\\\\\\\\\\\Users\\\\\\\\\\\\\\\\mari\\\\\\\\\\\\\\\\AppData\\\\\\\\\\\\\\\\Local\\\\\\\\\\\\\\\\Temp\\\\\\\\\\\\\\\\svchost.exe\",\"fileVersion\":\"10.0.17134.1 Corporation\",\"originalFileName\":\"Cmd.Exe\",\"commandLine\":\"\\\\\\\\\\\\\"C:\\\\\\\\\\\\\\\\Users\\\\\\\\\\\\\\\\mari\\\\\\\\\\\\\\\\AppData\\\\\\\\\\\\\\\\Local\\\\\\\\\\\\\\\\Temp\\\\\\\\\\\\\\\\svchost.exe\\\\\\\\\\\\\"\",\"currentDirectory\":\"C:\\\\\\\\\\\\\\\\Windows\\\\\\\\\\\\\\\\system32\\\\\\\\\\\\\\\\\",\"user\":\"DESKTOP-QGB4EQH\\\\\\\\\\\\\\\\mari\",\"logonGuid\":\"{15959494-DC20-6744-29FD-<LONG_NUM>}\",\"logonId\":\"<MEMORY_ADDR>\",\"terminalSessionId\":\"1\",\"integrityLevel\":\"High\",\"hashes\":\"SHA1=<HEX_DATA>,MD5=<HEX_DATA>,SHA256=<HEX_DATA>,IMPHASH=<HEX_DATA>\",\"parentProcessGuid\":\"{15959494-06E7-6745-8B05-<LONG_NUM>}\",\"parentProcessId\":\"1168\",\"parentImage\":\"C:\\\\\\\\\\\\\\\\Windows\\\\\\\\\\\\\\\\System32\\\\\\\\\\\\\\\\WindowsPowerShell\\\\\\\\\\\\\\\\v1.0\\\\\\\\\\\\\\\\powershell.exe\",\"parentCommandLine\":\"powershell.exe 4368\\\\r\\\\nImage: 1168\\\\r\\\\nParentImage:\\n',\n",
       " ' Windows® Operating Windows System\\\\r\\\\nCompany: System\",\"company\":\"Microsoft Microsoft® Microsoft Create:\\\\r\\\\nRuleName: Corporation\\\\r\\\\nOriginalFileName: <TIMESTAMP>\\\\r\\\\nProcessGuid: <MEMORY_ADDR>\\\\r\\\\nTerminalSessionId: (WinBuild.160101.0800)\\\\r\\\\nDescription: Command 1\\\\r\\\\nIntegrityLevel: (WinBuild.160101.0800)\",\"description\":\"Windows SHA1=<HEX_DATA>,MD5=<HEX_DATA>,SHA256=<HEX_DATA>,IMPHASH=<HEX_DATA>\\\\r\\\\nParentProcessGuid: DESKTOP-QGB4EQH\\\\\\\\mari\\\\r\\\\nLogonGuid: C:\\\\\\\\Windows\\\\\\\\system32\\\\\\\\\\\\r\\\\nUser: 10.0.17134.1 Processor\\\\r\\\\nProduct: Processor\",\"product\":\"Microsoft® Cmd.Exe\\\\r\\\\nCommandLine: High\\\\r\\\\nHashes: + ($env:TEMP \\\\r\\\\nCurrentDirectory: -C Stop-Process Bypass = -PassThru -ID -FilePath -ExecutionPolicy (Start-Process $myT1036_003 technique_id=T1059.003,technique_name=Windows powershell.exe \\\\\\\\\\\\\\\\\\\\\\\\\\\\\"\\\\\\\\\\\\\\\\svchost.exe\\\\\\\\\\\\\\\\\\\\\\\\\\\\\"); \\\\\\\\\\\\\\\\\\\\\\\\\\\\\"\\\\\\\\\\\\\\\\svchost.exe\\\\\\\\\\\\\\\\\\\\\\\\\\\\\")).Id; \\\\\\\\\\\\\\\\\\\\\\\\\\\\\"$env:ComSpec\\\\\\\\\\\\\\\\\\\\\\\\\\\\\" \\\\\\\\\\\\\"copy \\\\\\\\\\\\\"\\\\\\\\svchost.exe\\\\\\\\\\\\\"); \\\\\\\\\\\\\"\\\\\\\\svchost.exe\\\\\\\\\\\\\")).Id; \\\\\\\\\\\\\"$env:ComSpec\\\\\\\\\\\\\" \\\\\"copy \\\\\"C:\\\\\\\\Users\\\\\\\\mari\\\\\\\\AppData\\\\\\\\Local\\\\\\\\Temp\\\\\\\\svchost.exe\\\\\" Shell\\\\r\\\\nUtcTime: DESKTOP-QGB4EQH\\\\\\\\mari\\\\\"\"},\"eventdata\":{\"ruleName\":\"technique_id=T1059.003,technique_name=Windows C:\\\\\\\\Windows\\\\\\\\System32\\\\\\\\WindowsPowerShell\\\\\\\\v1.0\\\\\\\\powershell.exe\\\\r\\\\nParentCommandLine: C:\\\\\\\\Users\\\\\\\\mari\\\\\\\\AppData\\\\\\\\Local\\\\\\\\Temp\\\\\\\\svchost.exe\\\\r\\\\nFileVersion: $myT1036_003\\\\\\\\\\\\\"\",\"parentUser\":\"DESKTOP-QGB4EQH\\\\\\\\\\\\\\\\mari\"}}} $myT1036_003\\\\\"\\\\r\\\\nParentUser: {15959494-D46B-6749-6B7A-<LONG_NUM>}\\\\r\\\\nLogonId: {15959494-F6AE-6749-2F03-000000000D00}\\\\r\\\\nProcessId: {15959494-F6AE-6749-2E03-000000000D00}\\\\r\\\\nParentProcessId: {\"win\":{\"system\":{\"providerName\":\"Microsoft-Windows-Sysmon\",\"providerGuid\":\"{5770385F-C22A-43E0-BF4C-06F5698FFBD9}\",\"eventID\":\"1\",\"version\":\"5\",\"level\":\"4\",\"task\":\"1\",\"opcode\":\"0\",\"keywords\":\"<MEMORY_ADDR>\",\"systemTime\":\"<TIMESTAMP>\",\"eventRecordID\":\"51020\",\"processID\":\"2356\",\"threadID\":\"1760\",\"channel\":\"Microsoft-Windows-Sysmon/Operational\",\"computer\":\"DESKTOP-QGB4EQH\",\"severityValue\":\"INFORMATION\",\"message\":\"\\\\\"Process Shell\",\"utcTime\":\"<TIMESTAMP>\",\"processGuid\":\"{15959494-F6AE-6749-2F03-000000000D00}\",\"processId\":\"7112\",\"image\":\"C:\\\\\\\\\\\\\\\\Users\\\\\\\\\\\\\\\\mari\\\\\\\\\\\\\\\\AppData\\\\\\\\\\\\\\\\Local\\\\\\\\\\\\\\\\Temp\\\\\\\\\\\\\\\\svchost.exe\",\"fileVersion\":\"10.0.17134.1 Corporation\",\"originalFileName\":\"Cmd.Exe\",\"commandLine\":\"\\\\\\\\\\\\\"C:\\\\\\\\\\\\\\\\Users\\\\\\\\\\\\\\\\mari\\\\\\\\\\\\\\\\AppData\\\\\\\\\\\\\\\\Local\\\\\\\\\\\\\\\\Temp\\\\\\\\\\\\\\\\svchost.exe\\\\\\\\\\\\\"\",\"currentDirectory\":\"C:\\\\\\\\\\\\\\\\Windows\\\\\\\\\\\\\\\\system32\\\\\\\\\\\\\\\\\",\"user\":\"DESKTOP-QGB4EQH\\\\\\\\\\\\\\\\mari\",\"logonGuid\":\"{15959494-D46B-6749-6B7A-<LONG_NUM>}\",\"logonId\":\"<MEMORY_ADDR>\",\"terminalSessionId\":\"1\",\"integrityLevel\":\"High\",\"hashes\":\"SHA1=<HEX_DATA>,MD5=<HEX_DATA>,SHA256=<HEX_DATA>,IMPHASH=<HEX_DATA>\",\"parentProcessGuid\":\"{15959494-F6AE-6749-2E03-000000000D00}\",\"parentProcessId\":\"6012\",\"parentImage\":\"C:\\\\\\\\\\\\\\\\Windows\\\\\\\\\\\\\\\\System32\\\\\\\\\\\\\\\\WindowsPowerShell\\\\\\\\\\\\\\\\v1.0\\\\\\\\\\\\\\\\powershell.exe\",\"parentCommandLine\":\"powershell.exe 7112\\\\r\\\\nImage: 6012\\\\r\\\\nParentImage:\\n',\n",
       " ' Windows® Operating Windows System\\\\r\\\\nCompany: System\",\"company\":\"Microsoft Microsoft® Microsoft Create:\\\\r\\\\nRuleName: Corporation\\\\r\\\\nOriginalFileName: <TIMESTAMP>\\\\r\\\\nProcessGuid: <MEMORY_ADDR>\\\\r\\\\nTerminalSessionId: (WinBuild.160101.0800)\\\\r\\\\nDescription: Command 1\\\\r\\\\nIntegrityLevel: (WinBuild.160101.0800)\",\"description\":\"Windows SHA1=<HEX_DATA>,MD5=<HEX_DATA>,SHA256=<HEX_DATA>,IMPHASH=<HEX_DATA>\\\\r\\\\nParentProcessGuid: DESKTOP-QGB4EQH\\\\\\\\mari\\\\r\\\\nLogonGuid: C:\\\\\\\\Windows\\\\\\\\system32\\\\\\\\\\\\r\\\\nUser: 10.0.17134.1 Processor\\\\r\\\\nProduct: Processor\",\"product\":\"Microsoft® Cmd.Exe\\\\r\\\\nCommandLine: High\\\\r\\\\nHashes: + ($env:TEMP \\\\r\\\\nCurrentDirectory: -C Stop-Process Bypass = -PassThru -ID -FilePath -ExecutionPolicy (Start-Process $myT1036_003 technique_id=T1059.003,technique_name=Windows powershell.exe \\\\\\\\\\\\\\\\\\\\\\\\\\\\\"\\\\\\\\\\\\\\\\svchost.exe\\\\\\\\\\\\\\\\\\\\\\\\\\\\\"); \\\\\\\\\\\\\\\\\\\\\\\\\\\\\"\\\\\\\\\\\\\\\\svchost.exe\\\\\\\\\\\\\\\\\\\\\\\\\\\\\")).Id; \\\\\\\\\\\\\\\\\\\\\\\\\\\\\"$env:ComSpec\\\\\\\\\\\\\\\\\\\\\\\\\\\\\" \\\\\\\\\\\\\"copy \\\\\\\\\\\\\"\\\\\\\\svchost.exe\\\\\\\\\\\\\"); \\\\\\\\\\\\\"\\\\\\\\svchost.exe\\\\\\\\\\\\\")).Id; \\\\\\\\\\\\\"$env:ComSpec\\\\\\\\\\\\\" \\\\\"copy \\\\\"C:\\\\\\\\Users\\\\\\\\mari\\\\\\\\AppData\\\\\\\\Local\\\\\\\\Temp\\\\\\\\svchost.exe\\\\\" Shell\\\\r\\\\nUtcTime: DESKTOP-QGB4EQH\\\\\\\\mari\\\\\"\"},\"eventdata\":{\"ruleName\":\"technique_id=T1059.003,technique_name=Windows C:\\\\\\\\Windows\\\\\\\\System32\\\\\\\\WindowsPowerShell\\\\\\\\v1.0\\\\\\\\powershell.exe\\\\r\\\\nParentCommandLine: C:\\\\\\\\Users\\\\\\\\mari\\\\\\\\AppData\\\\\\\\Local\\\\\\\\Temp\\\\\\\\svchost.exe\\\\r\\\\nFileVersion: $myT1036_003\\\\\\\\\\\\\"\",\"parentUser\":\"DESKTOP-QGB4EQH\\\\\\\\\\\\\\\\mari\"}}} $myT1036_003\\\\\"\\\\r\\\\nParentUser: {15959494-7BFA-6745-0916-0C0000000000}\\\\r\\\\nLogonId: {15959494-9E57-6745-3203-<LONG_NUM>}\\\\r\\\\nProcessId: {15959494-9E56-6745-3103-<LONG_NUM>}\\\\r\\\\nParentProcessId: {\"win\":{\"system\":{\"providerName\":\"Microsoft-Windows-Sysmon\",\"providerGuid\":\"{5770385F-C22A-43E0-BF4C-06F5698FFBD9}\",\"eventID\":\"1\",\"version\":\"5\",\"level\":\"4\",\"task\":\"1\",\"opcode\":\"0\",\"keywords\":\"<MEMORY_ADDR>\",\"systemTime\":\"<TIMESTAMP>\",\"eventRecordID\":\"18568\",\"processID\":\"2352\",\"threadID\":\"4112\",\"channel\":\"Microsoft-Windows-Sysmon/Operational\",\"computer\":\"DESKTOP-QGB4EQH\",\"severityValue\":\"INFORMATION\",\"message\":\"\\\\\"Process Shell\",\"utcTime\":\"<TIMESTAMP>\",\"processGuid\":\"{15959494-9E57-6745-3203-<LONG_NUM>}\",\"processId\":\"5624\",\"image\":\"C:\\\\\\\\\\\\\\\\Users\\\\\\\\\\\\\\\\mari\\\\\\\\\\\\\\\\AppData\\\\\\\\\\\\\\\\Local\\\\\\\\\\\\\\\\Temp\\\\\\\\\\\\\\\\svchost.exe\",\"fileVersion\":\"10.0.17134.1 Corporation\",\"originalFileName\":\"Cmd.Exe\",\"commandLine\":\"\\\\\\\\\\\\\"C:\\\\\\\\\\\\\\\\Users\\\\\\\\\\\\\\\\mari\\\\\\\\\\\\\\\\AppData\\\\\\\\\\\\\\\\Local\\\\\\\\\\\\\\\\Temp\\\\\\\\\\\\\\\\svchost.exe\\\\\\\\\\\\\"\",\"currentDirectory\":\"C:\\\\\\\\\\\\\\\\Windows\\\\\\\\\\\\\\\\system32\\\\\\\\\\\\\\\\\",\"user\":\"DESKTOP-QGB4EQH\\\\\\\\\\\\\\\\mari\",\"logonGuid\":\"{15959494-7BFA-6745-0916-0C0000000000}\",\"logonId\":\"<MEMORY_ADDR>\",\"terminalSessionId\":\"1\",\"integrityLevel\":\"High\",\"hashes\":\"SHA1=<HEX_DATA>,MD5=<HEX_DATA>,SHA256=<HEX_DATA>,IMPHASH=<HEX_DATA>\",\"parentProcessGuid\":\"{15959494-9E56-6745-3103-<LONG_NUM>}\",\"parentProcessId\":\"4632\",\"parentImage\":\"C:\\\\\\\\\\\\\\\\Windows\\\\\\\\\\\\\\\\System32\\\\\\\\\\\\\\\\WindowsPowerShell\\\\\\\\\\\\\\\\v1.0\\\\\\\\\\\\\\\\powershell.exe\",\"parentCommandLine\":\"powershell.exe 5624\\\\r\\\\nImage: 4632\\\\r\\\\nParentImage:\\n',\n",
       " ' Windows® Operating Windows System\\\\r\\\\nCompany: System\",\"company\":\"Microsoft Microsoft® Microsoft Create:\\\\r\\\\nRuleName: Corporation\\\\r\\\\nOriginalFileName: <TIMESTAMP>\\\\r\\\\nProcessGuid: <MEMORY_ADDR>\\\\r\\\\nTerminalSessionId: (WinBuild.160101.0800)\\\\r\\\\nDescription: Command 1\\\\r\\\\nIntegrityLevel: (WinBuild.160101.0800)\",\"description\":\"Windows SHA1=<HEX_DATA>,MD5=<HEX_DATA>,SHA256=<HEX_DATA>,IMPHASH=<HEX_DATA>\\\\r\\\\nParentProcessGuid: DESKTOP-QGB4EQH\\\\\\\\mari\\\\r\\\\nLogonGuid: C:\\\\\\\\Windows\\\\\\\\system32\\\\\\\\\\\\r\\\\nUser: 10.0.17134.1 Processor\\\\r\\\\nProduct: Processor\",\"product\":\"Microsoft® Cmd.Exe\\\\r\\\\nCommandLine: High\\\\r\\\\nHashes: + ($env:TEMP \\\\r\\\\nCurrentDirectory: -C Stop-Process Bypass = -PassThru -ID -FilePath -ExecutionPolicy (Start-Process $myT1036_003 technique_id=T1059.003,technique_name=Windows powershell.exe \\\\\\\\\\\\\\\\\\\\\\\\\\\\\"\\\\\\\\\\\\\\\\svchost.exe\\\\\\\\\\\\\\\\\\\\\\\\\\\\\"); \\\\\\\\\\\\\\\\\\\\\\\\\\\\\"\\\\\\\\\\\\\\\\svchost.exe\\\\\\\\\\\\\\\\\\\\\\\\\\\\\")).Id; \\\\\\\\\\\\\\\\\\\\\\\\\\\\\"$env:ComSpec\\\\\\\\\\\\\\\\\\\\\\\\\\\\\" \\\\\\\\\\\\\"copy \\\\\\\\\\\\\"\\\\\\\\svchost.exe\\\\\\\\\\\\\"); \\\\\\\\\\\\\"\\\\\\\\svchost.exe\\\\\\\\\\\\\")).Id; \\\\\\\\\\\\\"$env:ComSpec\\\\\\\\\\\\\" \\\\\"copy \\\\\"C:\\\\\\\\Users\\\\\\\\mari\\\\\\\\AppData\\\\\\\\Local\\\\\\\\Temp\\\\\\\\svchost.exe\\\\\" Shell\\\\r\\\\nUtcTime: DESKTOP-QGB4EQH\\\\\\\\mari\\\\\"\"},\"eventdata\":{\"ruleName\":\"technique_id=T1059.003,technique_name=Windows C:\\\\\\\\Windows\\\\\\\\System32\\\\\\\\WindowsPowerShell\\\\\\\\v1.0\\\\\\\\powershell.exe\\\\r\\\\nParentCommandLine: C:\\\\\\\\Users\\\\\\\\mari\\\\\\\\AppData\\\\\\\\Local\\\\\\\\Temp\\\\\\\\svchost.exe\\\\r\\\\nFileVersion: $myT1036_003\\\\\\\\\\\\\"\",\"parentUser\":\"DESKTOP-QGB4EQH\\\\\\\\\\\\\\\\mari\"}}} $myT1036_003\\\\\"\\\\r\\\\nParentUser: {15959494-D46B-6749-6B7A-<LONG_NUM>}\\\\r\\\\nLogonId: 6516\\\\r\\\\nParentImage: {15959494-D28E-674A-4807-000000000D00}\\\\r\\\\nProcessId: {15959494-D28D-674A-4707-000000000D00}\\\\r\\\\nParentProcessId: {\"win\":{\"system\":{\"providerName\":\"Microsoft-Windows-Sysmon\",\"providerGuid\":\"{5770385F-C22A-43E0-BF4C-06F5698FFBD9}\",\"eventID\":\"1\",\"version\":\"5\",\"level\":\"4\",\"task\":\"1\",\"opcode\":\"0\",\"keywords\":\"<MEMORY_ADDR>\",\"systemTime\":\"<TIMESTAMP>\",\"eventRecordID\":\"56992\",\"processID\":\"2356\",\"threadID\":\"1760\",\"channel\":\"Microsoft-Windows-Sysmon/Operational\",\"computer\":\"DESKTOP-QGB4EQH\",\"severityValue\":\"INFORMATION\",\"message\":\"\\\\\"Process Shell\",\"utcTime\":\"<TIMESTAMP>\",\"processGuid\":\"{15959494-D28E-674A-4807-000000000D00}\",\"processId\":\"6620\",\"image\":\"C:\\\\\\\\\\\\\\\\Users\\\\\\\\\\\\\\\\mari\\\\\\\\\\\\\\\\AppData\\\\\\\\\\\\\\\\Local\\\\\\\\\\\\\\\\Temp\\\\\\\\\\\\\\\\svchost.exe\",\"fileVersion\":\"10.0.17134.1 Corporation\",\"originalFileName\":\"Cmd.Exe\",\"commandLine\":\"\\\\\\\\\\\\\"C:\\\\\\\\\\\\\\\\Users\\\\\\\\\\\\\\\\mari\\\\\\\\\\\\\\\\AppData\\\\\\\\\\\\\\\\Local\\\\\\\\\\\\\\\\Temp\\\\\\\\\\\\\\\\svchost.exe\\\\\\\\\\\\\"\",\"currentDirectory\":\"C:\\\\\\\\\\\\\\\\Windows\\\\\\\\\\\\\\\\system32\\\\\\\\\\\\\\\\\",\"user\":\"DESKTOP-QGB4EQH\\\\\\\\\\\\\\\\mari\",\"logonGuid\":\"{15959494-D46B-6749-6B7A-<LONG_NUM>}\",\"logonId\":\"<MEMORY_ADDR>\",\"terminalSessionId\":\"1\",\"integrityLevel\":\"High\",\"hashes\":\"SHA1=<HEX_DATA>,MD5=<HEX_DATA>,SHA256=<HEX_DATA>,IMPHASH=<HEX_DATA>\",\"parentProcessGuid\":\"{15959494-D28D-674A-4707-000000000D00}\",\"parentProcessId\":\"6516\",\"parentImage\":\"C:\\\\\\\\\\\\\\\\Windows\\\\\\\\\\\\\\\\System32\\\\\\\\\\\\\\\\WindowsPowerShell\\\\\\\\\\\\\\\\v1.0\\\\\\\\\\\\\\\\powershell.exe\",\"parentCommandLine\":\"powershell.exe 6620\\\\r\\\\nImage:\\n',\n",
       " ' Windows® Operating Windows System\\\\r\\\\nCompany: System\",\"company\":\"Microsoft Microsoft® Microsoft Create:\\\\r\\\\nRuleName: Corporation\\\\r\\\\nOriginalFileName: <TIMESTAMP>\\\\r\\\\nProcessGuid: <MEMORY_ADDR>\\\\r\\\\nTerminalSessionId: (WinBuild.160101.0800)\\\\r\\\\nDescription: Command 1\\\\r\\\\nIntegrityLevel: (WinBuild.160101.0800)\",\"description\":\"Windows SHA1=<HEX_DATA>,MD5=<HEX_DATA>,SHA256=<HEX_DATA>,IMPHASH=<HEX_DATA>\\\\r\\\\nParentProcessGuid: DESKTOP-QGB4EQH\\\\\\\\mari\\\\r\\\\nLogonGuid: C:\\\\\\\\Windows\\\\\\\\system32\\\\\\\\\\\\r\\\\nUser: 10.0.17134.1 Processor\\\\r\\\\nProduct: Processor\",\"product\":\"Microsoft® Cmd.Exe\\\\r\\\\nCommandLine: High\\\\r\\\\nHashes: + ($env:TEMP \\\\r\\\\nCurrentDirectory: -C Stop-Process Bypass = -PassThru -ID -FilePath -ExecutionPolicy (Start-Process $myT1036_003 technique_id=T1059.003,technique_name=Windows powershell.exe \\\\\\\\\\\\\\\\\\\\\\\\\\\\\"\\\\\\\\\\\\\\\\svchost.exe\\\\\\\\\\\\\\\\\\\\\\\\\\\\\"); \\\\\\\\\\\\\\\\\\\\\\\\\\\\\"\\\\\\\\\\\\\\\\svchost.exe\\\\\\\\\\\\\\\\\\\\\\\\\\\\\")).Id; \\\\\\\\\\\\\\\\\\\\\\\\\\\\\"$env:ComSpec\\\\\\\\\\\\\\\\\\\\\\\\\\\\\" \\\\\\\\\\\\\"copy \\\\\\\\\\\\\"\\\\\\\\svchost.exe\\\\\\\\\\\\\"); \\\\\\\\\\\\\"\\\\\\\\svchost.exe\\\\\\\\\\\\\")).Id; \\\\\\\\\\\\\"$env:ComSpec\\\\\\\\\\\\\" \\\\\"copy \\\\\"C:\\\\\\\\Users\\\\\\\\mari\\\\\\\\AppData\\\\\\\\Local\\\\\\\\Temp\\\\\\\\svchost.exe\\\\\" Shell\\\\r\\\\nUtcTime: DESKTOP-QGB4EQH\\\\\\\\mari\\\\\"\"},\"eventdata\":{\"ruleName\":\"technique_id=T1059.003,technique_name=Windows C:\\\\\\\\Windows\\\\\\\\System32\\\\\\\\WindowsPowerShell\\\\\\\\v1.0\\\\\\\\powershell.exe\\\\r\\\\nParentCommandLine: C:\\\\\\\\Users\\\\\\\\mari\\\\\\\\AppData\\\\\\\\Local\\\\\\\\Temp\\\\\\\\svchost.exe\\\\r\\\\nFileVersion: $myT1036_003\\\\\\\\\\\\\"\",\"parentUser\":\"DESKTOP-QGB4EQH\\\\\\\\\\\\\\\\mari\"}}} $myT1036_003\\\\\"\\\\r\\\\nParentUser: {15959494-E9A8-6746-CAAC-0F0000000000}\\\\r\\\\nLogonId: {15959494-1F36-6747-7703-000000000A00}\\\\r\\\\nProcessId: {15959494-1F36-6747-7603-000000000A00}\\\\r\\\\nParentProcessId: {\"win\":{\"system\":{\"providerName\":\"Microsoft-Windows-Sysmon\",\"providerGuid\":\"{5770385F-C22A-43E0-BF4C-06F5698FFBD9}\",\"eventID\":\"1\",\"version\":\"5\",\"level\":\"4\",\"task\":\"1\",\"opcode\":\"0\",\"keywords\":\"<MEMORY_ADDR>\",\"systemTime\":\"<TIMESTAMP>\",\"eventRecordID\":\"33452\",\"processID\":\"2448\",\"threadID\":\"3768\",\"channel\":\"Microsoft-Windows-Sysmon/Operational\",\"computer\":\"DESKTOP-QGB4EQH\",\"severityValue\":\"INFORMATION\",\"message\":\"\\\\\"Process Shell\",\"utcTime\":\"<TIMESTAMP>\",\"processGuid\":\"{15959494-1F36-6747-7703-000000000A00}\",\"processId\":\"5432\",\"image\":\"C:\\\\\\\\\\\\\\\\Users\\\\\\\\\\\\\\\\mari\\\\\\\\\\\\\\\\AppData\\\\\\\\\\\\\\\\Local\\\\\\\\\\\\\\\\Temp\\\\\\\\\\\\\\\\svchost.exe\",\"fileVersion\":\"10.0.17134.1 Corporation\",\"originalFileName\":\"Cmd.Exe\",\"commandLine\":\"\\\\\\\\\\\\\"C:\\\\\\\\\\\\\\\\Users\\\\\\\\\\\\\\\\mari\\\\\\\\\\\\\\\\AppData\\\\\\\\\\\\\\\\Local\\\\\\\\\\\\\\\\Temp\\\\\\\\\\\\\\\\svchost.exe\\\\\\\\\\\\\"\",\"currentDirectory\":\"C:\\\\\\\\\\\\\\\\Windows\\\\\\\\\\\\\\\\system32\\\\\\\\\\\\\\\\\",\"user\":\"DESKTOP-QGB4EQH\\\\\\\\\\\\\\\\mari\",\"logonGuid\":\"{15959494-E9A8-6746-CAAC-0F0000000000}\",\"logonId\":\"<MEMORY_ADDR>\",\"terminalSessionId\":\"1\",\"integrityLevel\":\"High\",\"hashes\":\"SHA1=<HEX_DATA>,MD5=<HEX_DATA>,SHA256=<HEX_DATA>,IMPHASH=<HEX_DATA>\",\"parentProcessGuid\":\"{15959494-1F36-6747-7603-000000000A00}\",\"parentProcessId\":\"7472\",\"parentImage\":\"C:\\\\\\\\\\\\\\\\Windows\\\\\\\\\\\\\\\\System32\\\\\\\\\\\\\\\\WindowsPowerShell\\\\\\\\\\\\\\\\v1.0\\\\\\\\\\\\\\\\powershell.exe\",\"parentCommandLine\":\"powershell.exe 7472\\\\r\\\\nParentImage: 5432\\\\r\\\\nImage:\\n']"
      ]
     },
     "execution_count": 55,
     "metadata": {},
     "output_type": "execute_result"
    }
   ],
   "source": [
    "tw[:5]"
   ]
  },
  {
   "cell_type": "code",
   "execution_count": 56,
   "id": "6c3d9fe6",
   "metadata": {},
   "outputs": [
    {
     "data": {
      "text/plain": [
       "460"
      ]
     },
     "execution_count": 56,
     "metadata": {},
     "output_type": "execute_result"
    }
   ],
   "source": [
    "del fl, fw, tl, tw\n",
    "gc.collect()"
   ]
  },
  {
   "cell_type": "markdown",
   "id": "1147e525",
   "metadata": {},
   "source": [
    "## 2. Sequence Contruction"
   ]
  },
  {
   "cell_type": "code",
   "execution_count": null,
   "id": "5e18b6eb",
   "metadata": {},
   "outputs": [],
   "source": []
  },
  {
   "cell_type": "code",
   "execution_count": null,
   "id": "81280776",
   "metadata": {},
   "outputs": [],
   "source": []
  },
  {
   "cell_type": "code",
   "execution_count": null,
   "id": "0634c75a",
   "metadata": {},
   "outputs": [],
   "source": []
  },
  {
   "cell_type": "markdown",
   "id": "449a8236",
   "metadata": {},
   "source": []
  }
 ],
 "metadata": {
  "kernelspec": {
   "display_name": "Python 3",
   "language": "python",
   "name": "python3"
  },
  "language_info": {
   "codemirror_mode": {
    "name": "ipython",
    "version": 3
   },
   "file_extension": ".py",
   "mimetype": "text/x-python",
   "name": "python",
   "nbconvert_exporter": "python",
   "pygments_lexer": "ipython3",
   "version": "3.8.5"
  }
 },
 "nbformat": 4,
 "nbformat_minor": 5
}
